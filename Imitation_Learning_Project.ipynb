{
  "nbformat": 4,
  "nbformat_minor": 0,
  "metadata": {
    "colab": {
      "name": "Imitation_Learning_Project.ipynb",
      "provenance": [],
      "collapsed_sections": [],
      "include_colab_link": true
    },
    "kernelspec": {
      "name": "python3",
      "display_name": "Python 3"
    },
    "language_info": {
      "name": "python"
    },
    "widgets": {
      "application/vnd.jupyter.widget-state+json": {
        "6e2a2b4caa754505b8526671f3bc6440": {
          "model_module": "@jupyter-widgets/controls",
          "model_name": "HBoxModel",
          "model_module_version": "1.5.0",
          "state": {
            "_dom_classes": [],
            "_model_module": "@jupyter-widgets/controls",
            "_model_module_version": "1.5.0",
            "_model_name": "HBoxModel",
            "_view_count": null,
            "_view_module": "@jupyter-widgets/controls",
            "_view_module_version": "1.5.0",
            "_view_name": "HBoxView",
            "box_style": "",
            "children": [
              "IPY_MODEL_12b7fbe8b2ae499eafa726a7b992bdca",
              "IPY_MODEL_06e8a1a81c05476eb31bccf2c08eb2f1",
              "IPY_MODEL_6bbcebdc71a44b1fbc569ce31fea89c9"
            ],
            "layout": "IPY_MODEL_85aee00d6e714a9dafad4ac3b52a604d"
          }
        },
        "12b7fbe8b2ae499eafa726a7b992bdca": {
          "model_module": "@jupyter-widgets/controls",
          "model_name": "HTMLModel",
          "model_module_version": "1.5.0",
          "state": {
            "_dom_classes": [],
            "_model_module": "@jupyter-widgets/controls",
            "_model_module_version": "1.5.0",
            "_model_name": "HTMLModel",
            "_view_count": null,
            "_view_module": "@jupyter-widgets/controls",
            "_view_module_version": "1.5.0",
            "_view_name": "HTMLView",
            "description": "",
            "description_tooltip": null,
            "layout": "IPY_MODEL_af5fa4a75e3949258aab6931a5e61d9f",
            "placeholder": "​",
            "style": "IPY_MODEL_8d939bc5ce844a89a9ea8a25b175e2e3",
            "value": "BC epoch: 100%"
          }
        },
        "06e8a1a81c05476eb31bccf2c08eb2f1": {
          "model_module": "@jupyter-widgets/controls",
          "model_name": "FloatProgressModel",
          "model_module_version": "1.5.0",
          "state": {
            "_dom_classes": [],
            "_model_module": "@jupyter-widgets/controls",
            "_model_module_version": "1.5.0",
            "_model_name": "FloatProgressModel",
            "_view_count": null,
            "_view_module": "@jupyter-widgets/controls",
            "_view_module_version": "1.5.0",
            "_view_name": "ProgressView",
            "bar_style": "success",
            "description": "",
            "description_tooltip": null,
            "layout": "IPY_MODEL_a09b555b861a4b68830fd7e03a5e23f0",
            "max": 1,
            "min": 0,
            "orientation": "horizontal",
            "style": "IPY_MODEL_c66cdcebe4ca48078b5c9122098f8f76",
            "value": 1
          }
        },
        "6bbcebdc71a44b1fbc569ce31fea89c9": {
          "model_module": "@jupyter-widgets/controls",
          "model_name": "HTMLModel",
          "model_module_version": "1.5.0",
          "state": {
            "_dom_classes": [],
            "_model_module": "@jupyter-widgets/controls",
            "_model_module_version": "1.5.0",
            "_model_name": "HTMLModel",
            "_view_count": null,
            "_view_module": "@jupyter-widgets/controls",
            "_view_module_version": "1.5.0",
            "_view_name": "HTMLView",
            "description": "",
            "description_tooltip": null,
            "layout": "IPY_MODEL_5105b121a73b42b6b5a3c60cf0a7aeb7",
            "placeholder": "​",
            "style": "IPY_MODEL_ce68f19c89644b1b8c1392516c6d85a8",
            "value": " 1/1 [00:02&lt;00:00,  2.42s/it]"
          }
        },
        "85aee00d6e714a9dafad4ac3b52a604d": {
          "model_module": "@jupyter-widgets/base",
          "model_name": "LayoutModel",
          "model_module_version": "1.2.0",
          "state": {
            "_model_module": "@jupyter-widgets/base",
            "_model_module_version": "1.2.0",
            "_model_name": "LayoutModel",
            "_view_count": null,
            "_view_module": "@jupyter-widgets/base",
            "_view_module_version": "1.2.0",
            "_view_name": "LayoutView",
            "align_content": null,
            "align_items": null,
            "align_self": null,
            "border": null,
            "bottom": null,
            "display": null,
            "flex": null,
            "flex_flow": null,
            "grid_area": null,
            "grid_auto_columns": null,
            "grid_auto_flow": null,
            "grid_auto_rows": null,
            "grid_column": null,
            "grid_gap": null,
            "grid_row": null,
            "grid_template_areas": null,
            "grid_template_columns": null,
            "grid_template_rows": null,
            "height": null,
            "justify_content": null,
            "justify_items": null,
            "left": null,
            "margin": null,
            "max_height": null,
            "max_width": null,
            "min_height": null,
            "min_width": null,
            "object_fit": null,
            "object_position": null,
            "order": null,
            "overflow": null,
            "overflow_x": null,
            "overflow_y": null,
            "padding": null,
            "right": null,
            "top": null,
            "visibility": null,
            "width": null
          }
        },
        "af5fa4a75e3949258aab6931a5e61d9f": {
          "model_module": "@jupyter-widgets/base",
          "model_name": "LayoutModel",
          "model_module_version": "1.2.0",
          "state": {
            "_model_module": "@jupyter-widgets/base",
            "_model_module_version": "1.2.0",
            "_model_name": "LayoutModel",
            "_view_count": null,
            "_view_module": "@jupyter-widgets/base",
            "_view_module_version": "1.2.0",
            "_view_name": "LayoutView",
            "align_content": null,
            "align_items": null,
            "align_self": null,
            "border": null,
            "bottom": null,
            "display": null,
            "flex": null,
            "flex_flow": null,
            "grid_area": null,
            "grid_auto_columns": null,
            "grid_auto_flow": null,
            "grid_auto_rows": null,
            "grid_column": null,
            "grid_gap": null,
            "grid_row": null,
            "grid_template_areas": null,
            "grid_template_columns": null,
            "grid_template_rows": null,
            "height": null,
            "justify_content": null,
            "justify_items": null,
            "left": null,
            "margin": null,
            "max_height": null,
            "max_width": null,
            "min_height": null,
            "min_width": null,
            "object_fit": null,
            "object_position": null,
            "order": null,
            "overflow": null,
            "overflow_x": null,
            "overflow_y": null,
            "padding": null,
            "right": null,
            "top": null,
            "visibility": null,
            "width": null
          }
        },
        "8d939bc5ce844a89a9ea8a25b175e2e3": {
          "model_module": "@jupyter-widgets/controls",
          "model_name": "DescriptionStyleModel",
          "model_module_version": "1.5.0",
          "state": {
            "_model_module": "@jupyter-widgets/controls",
            "_model_module_version": "1.5.0",
            "_model_name": "DescriptionStyleModel",
            "_view_count": null,
            "_view_module": "@jupyter-widgets/base",
            "_view_module_version": "1.2.0",
            "_view_name": "StyleView",
            "description_width": ""
          }
        },
        "a09b555b861a4b68830fd7e03a5e23f0": {
          "model_module": "@jupyter-widgets/base",
          "model_name": "LayoutModel",
          "model_module_version": "1.2.0",
          "state": {
            "_model_module": "@jupyter-widgets/base",
            "_model_module_version": "1.2.0",
            "_model_name": "LayoutModel",
            "_view_count": null,
            "_view_module": "@jupyter-widgets/base",
            "_view_module_version": "1.2.0",
            "_view_name": "LayoutView",
            "align_content": null,
            "align_items": null,
            "align_self": null,
            "border": null,
            "bottom": null,
            "display": null,
            "flex": null,
            "flex_flow": null,
            "grid_area": null,
            "grid_auto_columns": null,
            "grid_auto_flow": null,
            "grid_auto_rows": null,
            "grid_column": null,
            "grid_gap": null,
            "grid_row": null,
            "grid_template_areas": null,
            "grid_template_columns": null,
            "grid_template_rows": null,
            "height": null,
            "justify_content": null,
            "justify_items": null,
            "left": null,
            "margin": null,
            "max_height": null,
            "max_width": null,
            "min_height": null,
            "min_width": null,
            "object_fit": null,
            "object_position": null,
            "order": null,
            "overflow": null,
            "overflow_x": null,
            "overflow_y": null,
            "padding": null,
            "right": null,
            "top": null,
            "visibility": null,
            "width": null
          }
        },
        "c66cdcebe4ca48078b5c9122098f8f76": {
          "model_module": "@jupyter-widgets/controls",
          "model_name": "ProgressStyleModel",
          "model_module_version": "1.5.0",
          "state": {
            "_model_module": "@jupyter-widgets/controls",
            "_model_module_version": "1.5.0",
            "_model_name": "ProgressStyleModel",
            "_view_count": null,
            "_view_module": "@jupyter-widgets/base",
            "_view_module_version": "1.2.0",
            "_view_name": "StyleView",
            "bar_color": null,
            "description_width": ""
          }
        },
        "5105b121a73b42b6b5a3c60cf0a7aeb7": {
          "model_module": "@jupyter-widgets/base",
          "model_name": "LayoutModel",
          "model_module_version": "1.2.0",
          "state": {
            "_model_module": "@jupyter-widgets/base",
            "_model_module_version": "1.2.0",
            "_model_name": "LayoutModel",
            "_view_count": null,
            "_view_module": "@jupyter-widgets/base",
            "_view_module_version": "1.2.0",
            "_view_name": "LayoutView",
            "align_content": null,
            "align_items": null,
            "align_self": null,
            "border": null,
            "bottom": null,
            "display": null,
            "flex": null,
            "flex_flow": null,
            "grid_area": null,
            "grid_auto_columns": null,
            "grid_auto_flow": null,
            "grid_auto_rows": null,
            "grid_column": null,
            "grid_gap": null,
            "grid_row": null,
            "grid_template_areas": null,
            "grid_template_columns": null,
            "grid_template_rows": null,
            "height": null,
            "justify_content": null,
            "justify_items": null,
            "left": null,
            "margin": null,
            "max_height": null,
            "max_width": null,
            "min_height": null,
            "min_width": null,
            "object_fit": null,
            "object_position": null,
            "order": null,
            "overflow": null,
            "overflow_x": null,
            "overflow_y": null,
            "padding": null,
            "right": null,
            "top": null,
            "visibility": null,
            "width": null
          }
        },
        "ce68f19c89644b1b8c1392516c6d85a8": {
          "model_module": "@jupyter-widgets/controls",
          "model_name": "DescriptionStyleModel",
          "model_module_version": "1.5.0",
          "state": {
            "_model_module": "@jupyter-widgets/controls",
            "_model_module_version": "1.5.0",
            "_model_name": "DescriptionStyleModel",
            "_view_count": null,
            "_view_module": "@jupyter-widgets/base",
            "_view_module_version": "1.2.0",
            "_view_name": "StyleView",
            "description_width": ""
          }
        },
        "6e29c151a4064f2a83a008a38f6ffaec": {
          "model_module": "@jupyter-widgets/controls",
          "model_name": "HBoxModel",
          "model_module_version": "1.5.0",
          "state": {
            "_dom_classes": [],
            "_model_module": "@jupyter-widgets/controls",
            "_model_module_version": "1.5.0",
            "_model_name": "HBoxModel",
            "_view_count": null,
            "_view_module": "@jupyter-widgets/controls",
            "_view_module_version": "1.5.0",
            "_view_name": "HBoxView",
            "box_style": "",
            "children": [
              "IPY_MODEL_7c689e627e3449bf8bdc8d014831e1b7",
              "IPY_MODEL_67d6efd726364f16bc895cb5e7e27964",
              "IPY_MODEL_e4e24406ac8b4566a5e6204c6f003863"
            ],
            "layout": "IPY_MODEL_7f8c4c76c2ff4bc993b342c87e90ced9"
          }
        },
        "7c689e627e3449bf8bdc8d014831e1b7": {
          "model_module": "@jupyter-widgets/controls",
          "model_name": "HTMLModel",
          "model_module_version": "1.5.0",
          "state": {
            "_dom_classes": [],
            "_model_module": "@jupyter-widgets/controls",
            "_model_module_version": "1.5.0",
            "_model_name": "HTMLModel",
            "_view_count": null,
            "_view_module": "@jupyter-widgets/controls",
            "_view_module_version": "1.5.0",
            "_view_name": "HTMLView",
            "description": "",
            "description_tooltip": null,
            "layout": "IPY_MODEL_0628ac003a7145bd97225305e2c8d6ae",
            "placeholder": "​",
            "style": "IPY_MODEL_821959f8c5a34631aae5878d404a8640",
            "value": "BC epoch: 100%"
          }
        },
        "67d6efd726364f16bc895cb5e7e27964": {
          "model_module": "@jupyter-widgets/controls",
          "model_name": "FloatProgressModel",
          "model_module_version": "1.5.0",
          "state": {
            "_dom_classes": [],
            "_model_module": "@jupyter-widgets/controls",
            "_model_module_version": "1.5.0",
            "_model_name": "FloatProgressModel",
            "_view_count": null,
            "_view_module": "@jupyter-widgets/controls",
            "_view_module_version": "1.5.0",
            "_view_name": "ProgressView",
            "bar_style": "success",
            "description": "",
            "description_tooltip": null,
            "layout": "IPY_MODEL_806d3bdb262c4900a8439fe5cd748e16",
            "max": 1,
            "min": 0,
            "orientation": "horizontal",
            "style": "IPY_MODEL_bd6b4ffbcaa14df2a17d6e6e4572b60a",
            "value": 1
          }
        },
        "e4e24406ac8b4566a5e6204c6f003863": {
          "model_module": "@jupyter-widgets/controls",
          "model_name": "HTMLModel",
          "model_module_version": "1.5.0",
          "state": {
            "_dom_classes": [],
            "_model_module": "@jupyter-widgets/controls",
            "_model_module_version": "1.5.0",
            "_model_name": "HTMLModel",
            "_view_count": null,
            "_view_module": "@jupyter-widgets/controls",
            "_view_module_version": "1.5.0",
            "_view_name": "HTMLView",
            "description": "",
            "description_tooltip": null,
            "layout": "IPY_MODEL_3a7b90399160490abe96f28ee6c97b31",
            "placeholder": "​",
            "style": "IPY_MODEL_9b53cbbb53c74546a6daf57f9c36ba9a",
            "value": " 1/1 [00:00&lt;00:00,  4.35it/s]"
          }
        },
        "7f8c4c76c2ff4bc993b342c87e90ced9": {
          "model_module": "@jupyter-widgets/base",
          "model_name": "LayoutModel",
          "model_module_version": "1.2.0",
          "state": {
            "_model_module": "@jupyter-widgets/base",
            "_model_module_version": "1.2.0",
            "_model_name": "LayoutModel",
            "_view_count": null,
            "_view_module": "@jupyter-widgets/base",
            "_view_module_version": "1.2.0",
            "_view_name": "LayoutView",
            "align_content": null,
            "align_items": null,
            "align_self": null,
            "border": null,
            "bottom": null,
            "display": null,
            "flex": null,
            "flex_flow": null,
            "grid_area": null,
            "grid_auto_columns": null,
            "grid_auto_flow": null,
            "grid_auto_rows": null,
            "grid_column": null,
            "grid_gap": null,
            "grid_row": null,
            "grid_template_areas": null,
            "grid_template_columns": null,
            "grid_template_rows": null,
            "height": null,
            "justify_content": null,
            "justify_items": null,
            "left": null,
            "margin": null,
            "max_height": null,
            "max_width": null,
            "min_height": null,
            "min_width": null,
            "object_fit": null,
            "object_position": null,
            "order": null,
            "overflow": null,
            "overflow_x": null,
            "overflow_y": null,
            "padding": null,
            "right": null,
            "top": null,
            "visibility": null,
            "width": null
          }
        },
        "0628ac003a7145bd97225305e2c8d6ae": {
          "model_module": "@jupyter-widgets/base",
          "model_name": "LayoutModel",
          "model_module_version": "1.2.0",
          "state": {
            "_model_module": "@jupyter-widgets/base",
            "_model_module_version": "1.2.0",
            "_model_name": "LayoutModel",
            "_view_count": null,
            "_view_module": "@jupyter-widgets/base",
            "_view_module_version": "1.2.0",
            "_view_name": "LayoutView",
            "align_content": null,
            "align_items": null,
            "align_self": null,
            "border": null,
            "bottom": null,
            "display": null,
            "flex": null,
            "flex_flow": null,
            "grid_area": null,
            "grid_auto_columns": null,
            "grid_auto_flow": null,
            "grid_auto_rows": null,
            "grid_column": null,
            "grid_gap": null,
            "grid_row": null,
            "grid_template_areas": null,
            "grid_template_columns": null,
            "grid_template_rows": null,
            "height": null,
            "justify_content": null,
            "justify_items": null,
            "left": null,
            "margin": null,
            "max_height": null,
            "max_width": null,
            "min_height": null,
            "min_width": null,
            "object_fit": null,
            "object_position": null,
            "order": null,
            "overflow": null,
            "overflow_x": null,
            "overflow_y": null,
            "padding": null,
            "right": null,
            "top": null,
            "visibility": null,
            "width": null
          }
        },
        "821959f8c5a34631aae5878d404a8640": {
          "model_module": "@jupyter-widgets/controls",
          "model_name": "DescriptionStyleModel",
          "model_module_version": "1.5.0",
          "state": {
            "_model_module": "@jupyter-widgets/controls",
            "_model_module_version": "1.5.0",
            "_model_name": "DescriptionStyleModel",
            "_view_count": null,
            "_view_module": "@jupyter-widgets/base",
            "_view_module_version": "1.2.0",
            "_view_name": "StyleView",
            "description_width": ""
          }
        },
        "806d3bdb262c4900a8439fe5cd748e16": {
          "model_module": "@jupyter-widgets/base",
          "model_name": "LayoutModel",
          "model_module_version": "1.2.0",
          "state": {
            "_model_module": "@jupyter-widgets/base",
            "_model_module_version": "1.2.0",
            "_model_name": "LayoutModel",
            "_view_count": null,
            "_view_module": "@jupyter-widgets/base",
            "_view_module_version": "1.2.0",
            "_view_name": "LayoutView",
            "align_content": null,
            "align_items": null,
            "align_self": null,
            "border": null,
            "bottom": null,
            "display": null,
            "flex": null,
            "flex_flow": null,
            "grid_area": null,
            "grid_auto_columns": null,
            "grid_auto_flow": null,
            "grid_auto_rows": null,
            "grid_column": null,
            "grid_gap": null,
            "grid_row": null,
            "grid_template_areas": null,
            "grid_template_columns": null,
            "grid_template_rows": null,
            "height": null,
            "justify_content": null,
            "justify_items": null,
            "left": null,
            "margin": null,
            "max_height": null,
            "max_width": null,
            "min_height": null,
            "min_width": null,
            "object_fit": null,
            "object_position": null,
            "order": null,
            "overflow": null,
            "overflow_x": null,
            "overflow_y": null,
            "padding": null,
            "right": null,
            "top": null,
            "visibility": null,
            "width": null
          }
        },
        "bd6b4ffbcaa14df2a17d6e6e4572b60a": {
          "model_module": "@jupyter-widgets/controls",
          "model_name": "ProgressStyleModel",
          "model_module_version": "1.5.0",
          "state": {
            "_model_module": "@jupyter-widgets/controls",
            "_model_module_version": "1.5.0",
            "_model_name": "ProgressStyleModel",
            "_view_count": null,
            "_view_module": "@jupyter-widgets/base",
            "_view_module_version": "1.2.0",
            "_view_name": "StyleView",
            "bar_color": null,
            "description_width": ""
          }
        },
        "3a7b90399160490abe96f28ee6c97b31": {
          "model_module": "@jupyter-widgets/base",
          "model_name": "LayoutModel",
          "model_module_version": "1.2.0",
          "state": {
            "_model_module": "@jupyter-widgets/base",
            "_model_module_version": "1.2.0",
            "_model_name": "LayoutModel",
            "_view_count": null,
            "_view_module": "@jupyter-widgets/base",
            "_view_module_version": "1.2.0",
            "_view_name": "LayoutView",
            "align_content": null,
            "align_items": null,
            "align_self": null,
            "border": null,
            "bottom": null,
            "display": null,
            "flex": null,
            "flex_flow": null,
            "grid_area": null,
            "grid_auto_columns": null,
            "grid_auto_flow": null,
            "grid_auto_rows": null,
            "grid_column": null,
            "grid_gap": null,
            "grid_row": null,
            "grid_template_areas": null,
            "grid_template_columns": null,
            "grid_template_rows": null,
            "height": null,
            "justify_content": null,
            "justify_items": null,
            "left": null,
            "margin": null,
            "max_height": null,
            "max_width": null,
            "min_height": null,
            "min_width": null,
            "object_fit": null,
            "object_position": null,
            "order": null,
            "overflow": null,
            "overflow_x": null,
            "overflow_y": null,
            "padding": null,
            "right": null,
            "top": null,
            "visibility": null,
            "width": null
          }
        },
        "9b53cbbb53c74546a6daf57f9c36ba9a": {
          "model_module": "@jupyter-widgets/controls",
          "model_name": "DescriptionStyleModel",
          "model_module_version": "1.5.0",
          "state": {
            "_model_module": "@jupyter-widgets/controls",
            "_model_module_version": "1.5.0",
            "_model_name": "DescriptionStyleModel",
            "_view_count": null,
            "_view_module": "@jupyter-widgets/base",
            "_view_module_version": "1.2.0",
            "_view_name": "StyleView",
            "description_width": ""
          }
        }
      }
    }
  },
  "cells": [
    {
      "cell_type": "markdown",
      "metadata": {
        "id": "view-in-github",
        "colab_type": "text"
      },
      "source": [
        "<a href=\"https://colab.research.google.com/github/winsa24/Colab-Copys/blob/main/Imitation_Learning_Project.ipynb\" target=\"_parent\"><img src=\"https://colab.research.google.com/assets/colab-badge.svg\" alt=\"Open In Colab\"/></a>"
      ]
    },
    {
      "cell_type": "code",
      "metadata": {
        "id": "PxOQ6zUHSB9_"
      },
      "source": [
        "%matplotlib inline"
      ],
      "execution_count": 2,
      "outputs": []
    },
    {
      "cell_type": "markdown",
      "metadata": {
        "id": "vmQ7I83HPwDX"
      },
      "source": [
        "# Setup and load demonstration data"
      ]
    },
    {
      "cell_type": "markdown",
      "metadata": {
        "id": "ts_8vjdfK7Hu"
      },
      "source": [
        "A few machine learning and reinforcement libraries have been developped. For instance, you can look at :\n",
        "\n",
        "*    stable baselines: short documentation at https://stable-baselines.readthedocs.io/_/downloads/en/v2.4.0/pdf/ ; long documentation for the version 3 at https://stable-baselines3.readthedocs.io/en/master/guide/rl.html. There is also a page dedicated to imitation on https://stable-baselines3.readthedocs.io/en/master/guide/imitation.html\n",
        "*    rlkit library developped by berkeley,. It proposes a reinforcement learning framework and algorithms implemented in PyTorch. The repository is on https://github.com/vitchyr/rlkit/\n",
        "\n"
      ]
    },
    {
      "cell_type": "markdown",
      "metadata": {
        "id": "bgBLfa4LKGmr"
      },
      "source": [
        "The imitation library implements imitation learning algorithms on top of Stable-Baselines3, including:\n",
        "\n",
        "*        Behavioral Cloning\n",
        "\n",
        "*       DAgger with synthetic examples\n",
        "\n",
        "*        Adversarial Inverse Reinforcement Learning (AIRL)\n",
        "\n",
        "*        Generative Adversarial Imitation Learning (GAIL)\n",
        "\n",
        "\n",
        "\n",
        "\n",
        "It also provides CLI scripts for training and saving demonstrations from RL experts, and for training imitation learners on these demonstrations.\n",
        "\n",
        "\n",
        "We will follow the code proposed in https://stable-baselines3.readthedocs.io/en/master/guide/imitation.html.\n",
        "\n",
        "For more documentation on stable-baselines, see :\n",
        "* https://stable-baselines3.readthedocs.io/en/master/guide/quickstart.html\n",
        "* https://stable-baselines3.readthedocs.io/en/master/guide/algos.html shows a guide to the implemented algorithms\n",
        "* https://github.com/DLR-RM/stable-baselines3 for the code of stable-baselines"
      ]
    },
    {
      "cell_type": "code",
      "metadata": {
        "id": "RkFOlFQVKFIm",
        "colab": {
          "base_uri": "https://localhost:8080/"
        },
        "outputId": "cf77db6c-4cf7-4df0-8d6b-67407044578e"
      },
      "source": [
        "!pip install stable_baselines --upgrade\n",
        "!pip install imitation\n"
      ],
      "execution_count": 3,
      "outputs": [
        {
          "output_type": "stream",
          "name": "stdout",
          "text": [
            "Collecting stable_baselines\n",
            "  Downloading stable_baselines-2.10.2-py3-none-any.whl (240 kB)\n",
            "\u001b[?25l\r\u001b[K     |█▍                              | 10 kB 19.9 MB/s eta 0:00:01\r\u001b[K     |██▊                             | 20 kB 21.0 MB/s eta 0:00:01\r\u001b[K     |████                            | 30 kB 18.0 MB/s eta 0:00:01\r\u001b[K     |█████▍                          | 40 kB 11.3 MB/s eta 0:00:01\r\u001b[K     |██████▉                         | 51 kB 6.5 MB/s eta 0:00:01\r\u001b[K     |████████▏                       | 61 kB 7.6 MB/s eta 0:00:01\r\u001b[K     |█████████▌                      | 71 kB 8.0 MB/s eta 0:00:01\r\u001b[K     |██████████▉                     | 81 kB 6.8 MB/s eta 0:00:01\r\u001b[K     |████████████▎                   | 92 kB 7.5 MB/s eta 0:00:01\r\u001b[K     |█████████████▋                  | 102 kB 7.7 MB/s eta 0:00:01\r\u001b[K     |███████████████                 | 112 kB 7.7 MB/s eta 0:00:01\r\u001b[K     |████████████████▎               | 122 kB 7.7 MB/s eta 0:00:01\r\u001b[K     |█████████████████▊              | 133 kB 7.7 MB/s eta 0:00:01\r\u001b[K     |███████████████████             | 143 kB 7.7 MB/s eta 0:00:01\r\u001b[K     |████████████████████▍           | 153 kB 7.7 MB/s eta 0:00:01\r\u001b[K     |█████████████████████▊          | 163 kB 7.7 MB/s eta 0:00:01\r\u001b[K     |███████████████████████▏        | 174 kB 7.7 MB/s eta 0:00:01\r\u001b[K     |████████████████████████▌       | 184 kB 7.7 MB/s eta 0:00:01\r\u001b[K     |█████████████████████████▉      | 194 kB 7.7 MB/s eta 0:00:01\r\u001b[K     |███████████████████████████▏    | 204 kB 7.7 MB/s eta 0:00:01\r\u001b[K     |████████████████████████████▋   | 215 kB 7.7 MB/s eta 0:00:01\r\u001b[K     |██████████████████████████████  | 225 kB 7.7 MB/s eta 0:00:01\r\u001b[K     |███████████████████████████████▎| 235 kB 7.7 MB/s eta 0:00:01\r\u001b[K     |████████████████████████████████| 240 kB 7.7 MB/s \n",
            "\u001b[?25hRequirement already satisfied: joblib in /usr/local/lib/python3.7/dist-packages (from stable_baselines) (1.1.0)\n",
            "Requirement already satisfied: cloudpickle>=0.5.5 in /usr/local/lib/python3.7/dist-packages (from stable_baselines) (1.3.0)\n",
            "Requirement already satisfied: scipy in /usr/local/lib/python3.7/dist-packages (from stable_baselines) (1.4.1)\n",
            "Requirement already satisfied: matplotlib in /usr/local/lib/python3.7/dist-packages (from stable_baselines) (3.2.2)\n",
            "Requirement already satisfied: opencv-python in /usr/local/lib/python3.7/dist-packages (from stable_baselines) (4.1.2.30)\n",
            "Requirement already satisfied: numpy in /usr/local/lib/python3.7/dist-packages (from stable_baselines) (1.21.5)\n",
            "Requirement already satisfied: gym[atari,classic_control]>=0.11 in /usr/local/lib/python3.7/dist-packages (from stable_baselines) (0.17.3)\n",
            "Requirement already satisfied: pandas in /usr/local/lib/python3.7/dist-packages (from stable_baselines) (1.3.5)\n",
            "Requirement already satisfied: pyglet<=1.5.0,>=1.4.0 in /usr/local/lib/python3.7/dist-packages (from gym[atari,classic_control]>=0.11->stable_baselines) (1.5.0)\n",
            "Requirement already satisfied: Pillow in /usr/local/lib/python3.7/dist-packages (from gym[atari,classic_control]>=0.11->stable_baselines) (7.1.2)\n",
            "Requirement already satisfied: atari-py~=0.2.0 in /usr/local/lib/python3.7/dist-packages (from gym[atari,classic_control]>=0.11->stable_baselines) (0.2.9)\n",
            "Requirement already satisfied: six in /usr/local/lib/python3.7/dist-packages (from atari-py~=0.2.0->gym[atari,classic_control]>=0.11->stable_baselines) (1.15.0)\n",
            "Requirement already satisfied: future in /usr/local/lib/python3.7/dist-packages (from pyglet<=1.5.0,>=1.4.0->gym[atari,classic_control]>=0.11->stable_baselines) (0.16.0)\n",
            "Requirement already satisfied: python-dateutil>=2.1 in /usr/local/lib/python3.7/dist-packages (from matplotlib->stable_baselines) (2.8.2)\n",
            "Requirement already satisfied: pyparsing!=2.0.4,!=2.1.2,!=2.1.6,>=2.0.1 in /usr/local/lib/python3.7/dist-packages (from matplotlib->stable_baselines) (3.0.8)\n",
            "Requirement already satisfied: cycler>=0.10 in /usr/local/lib/python3.7/dist-packages (from matplotlib->stable_baselines) (0.11.0)\n",
            "Requirement already satisfied: kiwisolver>=1.0.1 in /usr/local/lib/python3.7/dist-packages (from matplotlib->stable_baselines) (1.4.2)\n",
            "Requirement already satisfied: typing-extensions in /usr/local/lib/python3.7/dist-packages (from kiwisolver>=1.0.1->matplotlib->stable_baselines) (4.1.1)\n",
            "Requirement already satisfied: pytz>=2017.3 in /usr/local/lib/python3.7/dist-packages (from pandas->stable_baselines) (2018.9)\n",
            "Installing collected packages: stable-baselines\n",
            "Successfully installed stable-baselines-2.10.2\n",
            "Collecting imitation\n",
            "  Downloading imitation-0.2.0.tar.gz (89 kB)\n",
            "\u001b[K     |████████████████████████████████| 89 kB 5.1 MB/s \n",
            "\u001b[?25h  Installing build dependencies ... \u001b[?25l\u001b[?25hdone\n",
            "  Getting requirements to build wheel ... \u001b[?25l\u001b[?25hdone\n",
            "    Preparing wheel metadata ... \u001b[?25l\u001b[?25hdone\n",
            "Requirement already satisfied: torch>=1.4.0 in /usr/local/lib/python3.7/dist-packages (from imitation) (1.10.0+cu111)\n",
            "Collecting stable-baselines3~=0.8.0\n",
            "  Downloading stable_baselines3-0.8.0-py3-none-any.whl (128 kB)\n",
            "\u001b[K     |████████████████████████████████| 128 kB 19.9 MB/s \n",
            "\u001b[?25hCollecting awscli\n",
            "  Downloading awscli-1.22.95-py3-none-any.whl (3.8 MB)\n",
            "\u001b[K     |████████████████████████████████| 3.8 MB 52.6 MB/s \n",
            "\u001b[?25hRequirement already satisfied: numpy>=1.15 in /usr/local/lib/python3.7/dist-packages (from imitation) (1.21.5)\n",
            "Collecting sacred~=0.8.1\n",
            "  Downloading sacred-0.8.2-py2.py3-none-any.whl (106 kB)\n",
            "\u001b[K     |████████████████████████████████| 106 kB 47.0 MB/s \n",
            "\u001b[?25hRequirement already satisfied: cloudpickle>=0.5.5 in /usr/local/lib/python3.7/dist-packages (from imitation) (1.3.0)\n",
            "Requirement already satisfied: tensorboard>=1.14 in /usr/local/lib/python3.7/dist-packages (from imitation) (2.8.0)\n",
            "Requirement already satisfied: scikit-learn>=0.21.2 in /usr/local/lib/python3.7/dist-packages (from imitation) (1.0.2)\n",
            "Requirement already satisfied: tqdm in /usr/local/lib/python3.7/dist-packages (from imitation) (4.64.0)\n",
            "Collecting jax~=0.1.66\n",
            "  Downloading jax-0.1.77.tar.gz (448 kB)\n",
            "\u001b[K     |████████████████████████████████| 448 kB 48.8 MB/s \n",
            "\u001b[?25hRequirement already satisfied: matplotlib in /usr/local/lib/python3.7/dist-packages (from imitation) (3.2.2)\n",
            "Collecting jaxlib~=0.1.47\n",
            "  Downloading jaxlib-0.1.76-cp37-none-manylinux2010_x86_64.whl (65.1 MB)\n",
            "\u001b[K     |████████████████████████████████| 65.1 MB 77 kB/s \n",
            "\u001b[?25hRequirement already satisfied: gym[classic_control] in /usr/local/lib/python3.7/dist-packages (from imitation) (0.17.3)\n",
            "Requirement already satisfied: absl-py in /usr/local/lib/python3.7/dist-packages (from jax~=0.1.66->imitation) (1.0.0)\n",
            "Requirement already satisfied: opt_einsum in /usr/local/lib/python3.7/dist-packages (from jax~=0.1.66->imitation) (3.3.0)\n",
            "Requirement already satisfied: scipy in /usr/local/lib/python3.7/dist-packages (from jaxlib~=0.1.47->imitation) (1.4.1)\n",
            "Requirement already satisfied: flatbuffers<3.0,>=1.12 in /usr/local/lib/python3.7/dist-packages (from jaxlib~=0.1.47->imitation) (2.0)\n",
            "Collecting munch<3.0,>=2.0.2\n",
            "  Downloading munch-2.5.0-py2.py3-none-any.whl (10 kB)\n",
            "Requirement already satisfied: wrapt<2.0,>=1.0 in /usr/local/lib/python3.7/dist-packages (from sacred~=0.8.1->imitation) (1.14.0)\n",
            "Collecting py-cpuinfo>=4.0\n",
            "  Downloading py-cpuinfo-8.0.0.tar.gz (99 kB)\n",
            "\u001b[K     |████████████████████████████████| 99 kB 10.4 MB/s \n",
            "\u001b[?25hCollecting GitPython\n",
            "  Downloading GitPython-3.1.27-py3-none-any.whl (181 kB)\n",
            "\u001b[K     |████████████████████████████████| 181 kB 50.7 MB/s \n",
            "\u001b[?25hCollecting jsonpickle<2.0,>=1.2\n",
            "  Downloading jsonpickle-1.5.2-py2.py3-none-any.whl (37 kB)\n",
            "Collecting colorama>=0.4\n",
            "  Downloading colorama-0.4.4-py2.py3-none-any.whl (16 kB)\n",
            "Requirement already satisfied: packaging>=18.0 in /usr/local/lib/python3.7/dist-packages (from sacred~=0.8.1->imitation) (21.3)\n",
            "Requirement already satisfied: docopt<1.0,>=0.3 in /usr/local/lib/python3.7/dist-packages (from sacred~=0.8.1->imitation) (0.6.2)\n",
            "Requirement already satisfied: importlib-metadata in /usr/local/lib/python3.7/dist-packages (from jsonpickle<2.0,>=1.2->sacred~=0.8.1->imitation) (4.11.3)\n",
            "Requirement already satisfied: six in /usr/local/lib/python3.7/dist-packages (from munch<3.0,>=2.0.2->sacred~=0.8.1->imitation) (1.15.0)\n",
            "Requirement already satisfied: pyparsing!=3.0.5,>=2.0.2 in /usr/local/lib/python3.7/dist-packages (from packaging>=18.0->sacred~=0.8.1->imitation) (3.0.8)\n",
            "Requirement already satisfied: joblib>=0.11 in /usr/local/lib/python3.7/dist-packages (from scikit-learn>=0.21.2->imitation) (1.1.0)\n",
            "Requirement already satisfied: threadpoolctl>=2.0.0 in /usr/local/lib/python3.7/dist-packages (from scikit-learn>=0.21.2->imitation) (3.1.0)\n",
            "Requirement already satisfied: pandas in /usr/local/lib/python3.7/dist-packages (from stable-baselines3~=0.8.0->imitation) (1.3.5)\n",
            "Requirement already satisfied: pyglet<=1.5.0,>=1.4.0 in /usr/local/lib/python3.7/dist-packages (from gym[classic_control]->imitation) (1.5.0)\n",
            "Requirement already satisfied: future in /usr/local/lib/python3.7/dist-packages (from pyglet<=1.5.0,>=1.4.0->gym[classic_control]->imitation) (0.16.0)\n",
            "Requirement already satisfied: google-auth-oauthlib<0.5,>=0.4.1 in /usr/local/lib/python3.7/dist-packages (from tensorboard>=1.14->imitation) (0.4.6)\n",
            "Requirement already satisfied: tensorboard-data-server<0.7.0,>=0.6.0 in /usr/local/lib/python3.7/dist-packages (from tensorboard>=1.14->imitation) (0.6.1)\n",
            "Requirement already satisfied: werkzeug>=0.11.15 in /usr/local/lib/python3.7/dist-packages (from tensorboard>=1.14->imitation) (1.0.1)\n",
            "Requirement already satisfied: markdown>=2.6.8 in /usr/local/lib/python3.7/dist-packages (from tensorboard>=1.14->imitation) (3.3.6)\n",
            "Requirement already satisfied: protobuf>=3.6.0 in /usr/local/lib/python3.7/dist-packages (from tensorboard>=1.14->imitation) (3.17.3)\n",
            "Requirement already satisfied: tensorboard-plugin-wit>=1.6.0 in /usr/local/lib/python3.7/dist-packages (from tensorboard>=1.14->imitation) (1.8.1)\n",
            "Requirement already satisfied: wheel>=0.26 in /usr/local/lib/python3.7/dist-packages (from tensorboard>=1.14->imitation) (0.37.1)\n",
            "Requirement already satisfied: setuptools>=41.0.0 in /usr/local/lib/python3.7/dist-packages (from tensorboard>=1.14->imitation) (57.4.0)\n",
            "Requirement already satisfied: google-auth<3,>=1.6.3 in /usr/local/lib/python3.7/dist-packages (from tensorboard>=1.14->imitation) (1.35.0)\n",
            "Requirement already satisfied: grpcio>=1.24.3 in /usr/local/lib/python3.7/dist-packages (from tensorboard>=1.14->imitation) (1.44.0)\n",
            "Requirement already satisfied: requests<3,>=2.21.0 in /usr/local/lib/python3.7/dist-packages (from tensorboard>=1.14->imitation) (2.23.0)\n",
            "Requirement already satisfied: pyasn1-modules>=0.2.1 in /usr/local/lib/python3.7/dist-packages (from google-auth<3,>=1.6.3->tensorboard>=1.14->imitation) (0.2.8)\n",
            "Requirement already satisfied: cachetools<5.0,>=2.0.0 in /usr/local/lib/python3.7/dist-packages (from google-auth<3,>=1.6.3->tensorboard>=1.14->imitation) (4.2.4)\n",
            "Requirement already satisfied: rsa<5,>=3.1.4 in /usr/local/lib/python3.7/dist-packages (from google-auth<3,>=1.6.3->tensorboard>=1.14->imitation) (4.8)\n",
            "Requirement already satisfied: requests-oauthlib>=0.7.0 in /usr/local/lib/python3.7/dist-packages (from google-auth-oauthlib<0.5,>=0.4.1->tensorboard>=1.14->imitation) (1.3.1)\n",
            "Requirement already satisfied: zipp>=0.5 in /usr/local/lib/python3.7/dist-packages (from importlib-metadata->jsonpickle<2.0,>=1.2->sacred~=0.8.1->imitation) (3.8.0)\n",
            "Requirement already satisfied: typing-extensions>=3.6.4 in /usr/local/lib/python3.7/dist-packages (from importlib-metadata->jsonpickle<2.0,>=1.2->sacred~=0.8.1->imitation) (4.1.1)\n",
            "Requirement already satisfied: pyasn1<0.5.0,>=0.4.6 in /usr/local/lib/python3.7/dist-packages (from pyasn1-modules>=0.2.1->google-auth<3,>=1.6.3->tensorboard>=1.14->imitation) (0.4.8)\n",
            "Requirement already satisfied: idna<3,>=2.5 in /usr/local/lib/python3.7/dist-packages (from requests<3,>=2.21.0->tensorboard>=1.14->imitation) (2.10)\n",
            "Requirement already satisfied: certifi>=2017.4.17 in /usr/local/lib/python3.7/dist-packages (from requests<3,>=2.21.0->tensorboard>=1.14->imitation) (2021.10.8)\n",
            "Requirement already satisfied: chardet<4,>=3.0.2 in /usr/local/lib/python3.7/dist-packages (from requests<3,>=2.21.0->tensorboard>=1.14->imitation) (3.0.4)\n",
            "Requirement already satisfied: urllib3!=1.25.0,!=1.25.1,<1.26,>=1.21.1 in /usr/local/lib/python3.7/dist-packages (from requests<3,>=2.21.0->tensorboard>=1.14->imitation) (1.24.3)\n",
            "Requirement already satisfied: oauthlib>=3.0.0 in /usr/local/lib/python3.7/dist-packages (from requests-oauthlib>=0.7.0->google-auth-oauthlib<0.5,>=0.4.1->tensorboard>=1.14->imitation) (3.2.0)\n",
            "Requirement already satisfied: PyYAML<5.5,>=3.10 in /usr/local/lib/python3.7/dist-packages (from awscli->imitation) (3.13)\n",
            "Collecting rsa<5,>=3.1.4\n",
            "  Downloading rsa-4.7.2-py3-none-any.whl (34 kB)\n",
            "Collecting colorama>=0.4\n",
            "  Downloading colorama-0.4.3-py2.py3-none-any.whl (15 kB)\n",
            "Collecting s3transfer<0.6.0,>=0.5.0\n",
            "  Downloading s3transfer-0.5.2-py3-none-any.whl (79 kB)\n",
            "\u001b[K     |████████████████████████████████| 79 kB 8.8 MB/s \n",
            "\u001b[?25hCollecting docutils<0.16,>=0.10\n",
            "  Downloading docutils-0.15.2-py3-none-any.whl (547 kB)\n",
            "\u001b[K     |████████████████████████████████| 547 kB 50.6 MB/s \n",
            "\u001b[?25hCollecting botocore==1.24.40\n",
            "  Downloading botocore-1.24.40-py3-none-any.whl (8.7 MB)\n",
            "\u001b[K     |████████████████████████████████| 8.7 MB 37.4 MB/s \n",
            "\u001b[?25hCollecting urllib3!=1.25.0,!=1.25.1,<1.26,>=1.21.1\n",
            "  Downloading urllib3-1.25.11-py2.py3-none-any.whl (127 kB)\n",
            "\u001b[K     |████████████████████████████████| 127 kB 53.7 MB/s \n",
            "\u001b[?25hRequirement already satisfied: python-dateutil<3.0.0,>=2.1 in /usr/local/lib/python3.7/dist-packages (from botocore==1.24.40->awscli->imitation) (2.8.2)\n",
            "Collecting jmespath<2.0.0,>=0.7.1\n",
            "  Downloading jmespath-1.0.0-py3-none-any.whl (23 kB)\n",
            "Collecting gitdb<5,>=4.0.1\n",
            "  Downloading gitdb-4.0.9-py3-none-any.whl (63 kB)\n",
            "\u001b[K     |████████████████████████████████| 63 kB 1.8 MB/s \n",
            "\u001b[?25hCollecting smmap<6,>=3.0.1\n",
            "  Downloading smmap-5.0.0-py3-none-any.whl (24 kB)\n",
            "Requirement already satisfied: cycler>=0.10 in /usr/local/lib/python3.7/dist-packages (from matplotlib->imitation) (0.11.0)\n",
            "Requirement already satisfied: kiwisolver>=1.0.1 in /usr/local/lib/python3.7/dist-packages (from matplotlib->imitation) (1.4.2)\n",
            "Requirement already satisfied: pytz>=2017.3 in /usr/local/lib/python3.7/dist-packages (from pandas->stable-baselines3~=0.8.0->imitation) (2018.9)\n",
            "Building wheels for collected packages: imitation, jax, py-cpuinfo\n",
            "  Building wheel for imitation (PEP 517) ... \u001b[?25l\u001b[?25hdone\n",
            "  Created wheel for imitation: filename=imitation-0.2.0-py3-none-any.whl size=113233 sha256=96a529518be0aad8d855621d5389b0203000691b4f5f796f90bcb69529224251\n",
            "  Stored in directory: /root/.cache/pip/wheels/0b/08/08/63a86a59a8fbc7595ba2a4ce62de0fc256863023f3f79fc33d\n",
            "  Building wheel for jax (setup.py) ... \u001b[?25l\u001b[?25hdone\n",
            "  Created wheel for jax: filename=jax-0.1.77-py3-none-any.whl size=516860 sha256=7726922d78e40846ea4101778993b1e69008fb47d4f9a6d0b521f5591ad11ebf\n",
            "  Stored in directory: /root/.cache/pip/wheels/56/fa/4f/671e1f56d75e31d33a657975b8aee268877c74bbb99fcdd3a7\n",
            "  Building wheel for py-cpuinfo (setup.py) ... \u001b[?25l\u001b[?25hdone\n",
            "  Created wheel for py-cpuinfo: filename=py_cpuinfo-8.0.0-py3-none-any.whl size=22257 sha256=740a136e7cd74beeefc8a97c35ad9b0cb695999234c66a557a549ca964ce7c25\n",
            "  Stored in directory: /root/.cache/pip/wheels/d2/f1/1f/041add21dc9c4220157f1bd2bd6afe1f1a49524c3396b94401\n",
            "Successfully built imitation jax py-cpuinfo\n",
            "Installing collected packages: urllib3, smmap, rsa, jmespath, gitdb, botocore, s3transfer, py-cpuinfo, munch, jsonpickle, GitPython, docutils, colorama, stable-baselines3, sacred, jaxlib, jax, awscli, imitation\n",
            "  Attempting uninstall: urllib3\n",
            "    Found existing installation: urllib3 1.24.3\n",
            "    Uninstalling urllib3-1.24.3:\n",
            "      Successfully uninstalled urllib3-1.24.3\n",
            "  Attempting uninstall: rsa\n",
            "    Found existing installation: rsa 4.8\n",
            "    Uninstalling rsa-4.8:\n",
            "      Successfully uninstalled rsa-4.8\n",
            "  Attempting uninstall: docutils\n",
            "    Found existing installation: docutils 0.17.1\n",
            "    Uninstalling docutils-0.17.1:\n",
            "      Successfully uninstalled docutils-0.17.1\n",
            "  Attempting uninstall: jaxlib\n",
            "    Found existing installation: jaxlib 0.3.2+cuda11.cudnn805\n",
            "    Uninstalling jaxlib-0.3.2+cuda11.cudnn805:\n",
            "      Successfully uninstalled jaxlib-0.3.2+cuda11.cudnn805\n",
            "  Attempting uninstall: jax\n",
            "    Found existing installation: jax 0.3.4\n",
            "    Uninstalling jax-0.3.4:\n",
            "      Successfully uninstalled jax-0.3.4\n",
            "\u001b[31mERROR: pip's dependency resolver does not currently take into account all the packages that are installed. This behaviour is the source of the following dependency conflicts.\n",
            "datascience 0.10.6 requires folium==0.2.1, but you have folium 0.8.3 which is incompatible.\u001b[0m\n",
            "Successfully installed GitPython-3.1.27 awscli-1.22.95 botocore-1.24.40 colorama-0.4.3 docutils-0.15.2 gitdb-4.0.9 imitation-0.2.0 jax-0.1.77 jaxlib-0.1.76 jmespath-1.0.0 jsonpickle-1.5.2 munch-2.5.0 py-cpuinfo-8.0.0 rsa-4.7.2 s3transfer-0.5.2 sacred-0.8.2 smmap-5.0.0 stable-baselines3-0.8.0 urllib3-1.25.11\n"
          ]
        }
      ]
    },
    {
      "cell_type": "code",
      "metadata": {
        "id": "A_JtPoeyJvVK",
        "colab": {
          "base_uri": "https://localhost:8080/"
        },
        "outputId": "0e6691bb-cf98-404e-d1cb-f18782751ae6"
      },
      "source": [
        "# Libraries\n",
        "# Colab libraries\n",
        "from google.colab import drive\n",
        "from google.colab import output\n",
        "drive.mount('/content/gdrive')\n",
        "colab_path = \"/content/gdrive/My Drive/Colab Notebooks/\""
      ],
      "execution_count": 4,
      "outputs": [
        {
          "output_type": "stream",
          "name": "stdout",
          "text": [
            "Mounted at /content/gdrive\n"
          ]
        }
      ]
    },
    {
      "cell_type": "markdown",
      "metadata": {
        "id": "9LgPHshHghvH"
      },
      "source": [
        "Download the file https://raw.githubusercontent.com/HumanCompatibleAI/imitation/master/tests/data/expert_models/cartpole_0/rollouts/final.pkl and put it in your google drive Colab Notebook folder."
      ]
    },
    {
      "cell_type": "code",
      "metadata": {
        "id": "DosIgQFzJ3Sh",
        "colab": {
          "base_uri": "https://localhost:8080/"
        },
        "outputId": "b05b39b5-4950-41fe-b92d-c04e4e6cbdd8"
      },
      "source": [
        "import sys\n",
        "%cd $colab_path\n",
        "sys.path.append('.'); sys.argv=['']"
      ],
      "execution_count": 5,
      "outputs": [
        {
          "output_type": "stream",
          "name": "stdout",
          "text": [
            "/content/gdrive/My Drive/Colab Notebooks\n"
          ]
        }
      ]
    },
    {
      "cell_type": "code",
      "metadata": {
        "id": "zrY6d226JURy",
        "colab": {
          "base_uri": "https://localhost:8080/"
        },
        "outputId": "43086dc5-83a1-4ad4-b17d-fa406431f795"
      },
      "source": [
        "\"\"\"Loads CartPole-v1 demonstrations and trains BC and GAIL models on that data.\n",
        "\"\"\"\n",
        "\n",
        "import pathlib\n",
        "import pickle\n",
        "import tempfile\n",
        "\n",
        "import stable_baselines3 as sb3\n",
        "\n",
        "from imitation.algorithms import adversarial, bc\n",
        "from imitation.data import rollout\n",
        "from imitation.util import logger, util\n",
        "\n",
        "# Load pickled test demonstrations.\n",
        "with open(\"expert_data_CartPole.pkl\", \"rb\") as f:\n",
        "    # This is a list of `imitation.data.types.Trajectory`, where\n",
        "    # every instance contains observations and actions for a single expert\n",
        "    # demonstration.\n",
        "    trajectories = pickle.load(f)\n",
        "\n",
        "# Convert List[types.Trajectory] to an instance of `imitation.data.types.Transitions`.\n",
        "# This is a more general dataclass containing unordered\n",
        "# (observation, actions, next_observation) transitions.\n",
        "transitions = rollout.flatten_trajectories(trajectories)\n",
        "\n",
        "venv = util.make_vec_env(\"CartPole-v1\", n_envs=2)\n",
        "\n",
        "tempdir = tempfile.TemporaryDirectory(prefix=\"quickstart\")\n",
        "tempdir_path = pathlib.Path(tempdir.name)\n",
        "print(f\"All Tensorboards and logging are being written inside {tempdir_path}/.\")\n"
      ],
      "execution_count": 6,
      "outputs": [
        {
          "output_type": "stream",
          "name": "stdout",
          "text": [
            "All Tensorboards and logging are being written inside /tmp/quickstarthzop1ym5/.\n"
          ]
        }
      ]
    },
    {
      "cell_type": "code",
      "metadata": {
        "id": "ZpBIUVjoRTJR",
        "colab": {
          "base_uri": "https://localhost:8080/"
        },
        "outputId": "c77581d4-ae9e-4ccd-fbbf-085f7fa60e94"
      },
      "source": [
        "#information about transitions\n",
        "print(\"type of transitions\" ,type(transitions))\n",
        "print(\"length of transitions \", len(transitions))\n",
        "print(\"first transition \",transitions[0])"
      ],
      "execution_count": 7,
      "outputs": [
        {
          "output_type": "stream",
          "name": "stdout",
          "text": [
            "type of transitions <class 'imitation.data.types.Transitions'>\n",
            "length of transitions  27976\n",
            "first transition  {'obs': array([ 0.03013294,  0.0351516 ,  0.00868224, -0.02005102]), 'acts': 0, 'infos': {}, 'next_obs': array([ 0.03083597, -0.16009378,  0.00828122,  0.27535856]), 'dones': False}\n"
          ]
        }
      ]
    },
    {
      "cell_type": "markdown",
      "metadata": {
        "id": "aDRsOKDAPl-V"
      },
      "source": [
        "# Behavioral Cloning\n",
        "\n",
        "See the deprecated documentation for more detail about the implementation https://stable-baselines.readthedocs.io/en/master/guide/pretrain.html"
      ]
    },
    {
      "cell_type": "code",
      "metadata": {
        "id": "TqX_PPYTKiMu",
        "colab": {
          "base_uri": "https://localhost:8080/"
        },
        "outputId": "23f17559-8a46-4641-dc64-d3c2313e1326"
      },
      "source": [
        "# Train Behavioral Cloning on expert data.\n",
        "# BC also accepts as `expert_data` any PyTorch-style DataLoader that iterates over\n",
        "# dictionaries containing observations and actions.\n",
        "logger.configure(tempdir_path / \"BC/\")\n",
        "bc_trainer = bc.BC(venv.observation_space, venv.action_space, expert_data=transitions)"
      ],
      "execution_count": 8,
      "outputs": [
        {
          "output_type": "stream",
          "name": "stdout",
          "text": [
            "Logging to /tmp/quickstarthzop1ym5/BC\n"
          ]
        }
      ]
    },
    {
      "cell_type": "markdown",
      "metadata": {
        "id": "nVO6BdCmPWOm"
      },
      "source": [
        "Install rendering libraries and gym"
      ]
    },
    {
      "cell_type": "code",
      "metadata": {
        "id": "xR0qow3HPSFS",
        "colab": {
          "base_uri": "https://localhost:8080/"
        },
        "outputId": "0492023b-0aaa-4c61-f738-c08b9c36bdd8"
      },
      "source": [
        "!apt-get install -y xvfb python-opengl > /dev/null 2>&1\n",
        "!pip install gym pyvirtualdisplay"
      ],
      "execution_count": 9,
      "outputs": [
        {
          "output_type": "stream",
          "name": "stdout",
          "text": [
            "Requirement already satisfied: gym in /usr/local/lib/python3.7/dist-packages (0.17.3)\n",
            "Collecting pyvirtualdisplay\n",
            "  Downloading PyVirtualDisplay-3.0-py3-none-any.whl (15 kB)\n",
            "Requirement already satisfied: numpy>=1.10.4 in /usr/local/lib/python3.7/dist-packages (from gym) (1.21.5)\n",
            "Requirement already satisfied: pyglet<=1.5.0,>=1.4.0 in /usr/local/lib/python3.7/dist-packages (from gym) (1.5.0)\n",
            "Requirement already satisfied: cloudpickle<1.7.0,>=1.2.0 in /usr/local/lib/python3.7/dist-packages (from gym) (1.3.0)\n",
            "Requirement already satisfied: scipy in /usr/local/lib/python3.7/dist-packages (from gym) (1.4.1)\n",
            "Requirement already satisfied: future in /usr/local/lib/python3.7/dist-packages (from pyglet<=1.5.0,>=1.4.0->gym) (0.16.0)\n",
            "Installing collected packages: pyvirtualdisplay\n",
            "Successfully installed pyvirtualdisplay-3.0\n"
          ]
        }
      ]
    },
    {
      "cell_type": "markdown",
      "metadata": {
        "id": "2CSco8cZPasM"
      },
      "source": [
        "Create a virtual display (only necessary in a notebook)"
      ]
    },
    {
      "cell_type": "code",
      "metadata": {
        "id": "86ophwuEPM5Q",
        "colab": {
          "base_uri": "https://localhost:8080/"
        },
        "outputId": "2b92fccf-8b39-404f-9d0f-b8da43abdabc"
      },
      "source": [
        "from pyvirtualdisplay import Display\n",
        "display = Display(visible=0, size=(400, 300))\n",
        "display.start()"
      ],
      "execution_count": 10,
      "outputs": [
        {
          "output_type": "execute_result",
          "data": {
            "text/plain": [
              "<pyvirtualdisplay.display.Display at 0x7effc1218490>"
            ]
          },
          "metadata": {},
          "execution_count": 10
        }
      ]
    },
    {
      "cell_type": "code",
      "metadata": {
        "id": "zjIOnJQnTamO"
      },
      "source": [
        "import matplotlib.pyplot as plt\n",
        "import gym\n",
        "import numpy as np\n"
      ],
      "execution_count": 11,
      "outputs": []
    },
    {
      "cell_type": "markdown",
      "metadata": {
        "id": "d9Oseo__TcZb"
      },
      "source": [
        "Initialise the simulation environment"
      ]
    },
    {
      "cell_type": "code",
      "metadata": {
        "id": "2BVDlJJsPG1r",
        "colab": {
          "base_uri": "https://localhost:8080/",
          "height": 287
        },
        "outputId": "8fd20297-056e-4d37-f8c9-ec8d723cb74c"
      },
      "source": [
        "env = gym.make(\"CartPole-v0\")\n",
        "# env = gym.make(\"BipedalWalker-v3\") # try for different environements\n",
        "#env = gym.make('MountainCarContinuous-v0')\n",
        "env.reset()\n",
        "prev_screen = env.render(mode='rgb_array')\n",
        "plt.imshow(prev_screen)"
      ],
      "execution_count": 12,
      "outputs": [
        {
          "output_type": "execute_result",
          "data": {
            "text/plain": [
              "<matplotlib.image.AxesImage at 0x7efe93a3b7d0>"
            ]
          },
          "metadata": {},
          "execution_count": 12
        },
        {
          "output_type": "display_data",
          "data": {
            "text/plain": [
              "<Figure size 432x288 with 1 Axes>"
            ],
            "image/png": "[encoded data removed]"
          },
          "metadata": {
            "needs_background": "light"
          }
        }
      ]
    },
    {
      "cell_type": "markdown",
      "metadata": {
        "id": "XM3RNtbiDPoP"
      },
      "source": [
        "Print out the properties of the environment\n"
      ]
    },
    {
      "cell_type": "code",
      "metadata": {
        "id": "Cw-kfvwhDTAN",
        "colab": {
          "base_uri": "https://localhost:8080/"
        },
        "outputId": "1edecfec-e353-454d-bc98-83704c33d29c"
      },
      "source": [
        "print(venv.action_space)\n",
        "print(venv.observation_space)"
      ],
      "execution_count": 13,
      "outputs": [
        {
          "output_type": "stream",
          "name": "stdout",
          "text": [
            "Discrete(2)\n",
            "Box(-3.4028234663852886e+38, 3.4028234663852886e+38, (4,), float32)\n"
          ]
        }
      ]
    },
    {
      "cell_type": "markdown",
      "metadata": {
        "id": "PncbGnPi-8fq"
      },
      "source": [
        "##Before training\n",
        "Test in the environment the untrained policy.  \n",
        "TODO: write the code to test the behaviour of the output policy on the environment. We will be able to select the action of the environment with\n",
        "\n",
        "    a,_ = bc_trainer.policy.predict(s)"
      ]
    },
    {
      "cell_type": "code",
      "metadata": {
        "id": "LUbaWN0cN3BT",
        "colab": {
          "base_uri": "https://localhost:8080/"
        },
        "outputId": "984e13c8-8997-463c-f680-41a3cbd2ff1c"
      },
      "source": [
        "num_episodes = 10\n",
        "rew_list=[]\n",
        "\n",
        "obs = env.reset()\n",
        "reward_sum = 0.0\n",
        "for i in range(num_episodes):\n",
        "    #TODO: write the code to test the behaviour of the output policy on the environment for num_episodes\n",
        "    action, _ = bc_trainer.policy.predict(obs)\n",
        "    obs, reward, done, _ = env.step(action)\n",
        "    reward_sum += reward\n",
        "    env.render()\n",
        "    if done:\n",
        "      print(reward_sum)\n",
        "      reward_sum = 0.0\n",
        "      obs = env.reset()\n",
        "\n",
        "    rAll = reward_sum\n",
        "    rew_list.append(rAll)\n",
        "  \n",
        "env.close()\n",
        "print('Complete')\n"
      ],
      "execution_count": 14,
      "outputs": [
        {
          "output_type": "stream",
          "name": "stdout",
          "text": [
            "Complete\n"
          ]
        }
      ]
    },
    {
      "cell_type": "markdown",
      "metadata": {
        "id": "PykzDceUZ1C2"
      },
      "source": [
        "Plot the reward received by the bc_trainer"
      ]
    },
    {
      "cell_type": "code",
      "metadata": {
        "id": "Xgwn0PslZvGV",
        "colab": {
          "base_uri": "https://localhost:8080/",
          "height": 283
        },
        "outputId": "a099d601-9039-47fa-972e-2eb17d31e5b5"
      },
      "source": [
        "#check the learning process by plotting  the reward per episode \n",
        "plt.plot(rew_list)\n",
        "print(\"mean reward \",np.mean(rew_list))"
      ],
      "execution_count": 15,
      "outputs": [
        {
          "output_type": "stream",
          "name": "stdout",
          "text": [
            "mean reward  5.5\n"
          ]
        },
        {
          "output_type": "display_data",
          "data": {
            "text/plain": [
              "<Figure size 432x288 with 1 Axes>"
            ],
            "image/png": "[encoded data removed]"
          },
          "metadata": {
            "needs_background": "light"
          }
        }
      ]
    },
    {
      "cell_type": "markdown",
      "metadata": {
        "id": "lB4T7-bT-tjj"
      },
      "source": [
        "##After Training\n",
        "Train the policy by behavioural cloning after training for 1 epoch"
      ]
    },
    {
      "cell_type": "code",
      "metadata": {
        "id": "uaABBYtP-yCW",
        "colab": {
          "base_uri": "https://localhost:8080/",
          "height": 1000,
          "referenced_widgets": [
            "6e2a2b4caa754505b8526671f3bc6440",
            "12b7fbe8b2ae499eafa726a7b992bdca",
            "06e8a1a81c05476eb31bccf2c08eb2f1",
            "6bbcebdc71a44b1fbc569ce31fea89c9",
            "85aee00d6e714a9dafad4ac3b52a604d",
            "af5fa4a75e3949258aab6931a5e61d9f",
            "8d939bc5ce844a89a9ea8a25b175e2e3",
            "a09b555b861a4b68830fd7e03a5e23f0",
            "c66cdcebe4ca48078b5c9122098f8f76",
            "5105b121a73b42b6b5a3c60cf0a7aeb7",
            "ce68f19c89644b1b8c1392516c6d85a8"
          ]
        },
        "outputId": "968a65cc-2e59-46c6-9cd7-50a7e1825fb3"
      },
      "source": [
        "bc_trainer.train(n_epochs=1) "
      ],
      "execution_count": 16,
      "outputs": [
        {
          "output_type": "display_data",
          "data": {
            "text/plain": [
              "BC epoch:   0%|          | 0/1 [00:00<?, ?it/s]"
            ],
            "application/vnd.jupyter.widget-view+json": {
              "version_major": 2,
              "version_minor": 0,
              "model_id": "6e2a2b4caa754505b8526671f3bc6440"
            }
          },
          "metadata": {}
        },
        {
          "output_type": "stream",
          "name": "stderr",
          "text": [
            "/usr/local/lib/python3.7/dist-packages/torch/utils/data/_utils/collate.py:64: UserWarning: The given NumPy array is not writeable, and PyTorch does not support non-writeable tensors. This means you can write to the underlying (supposedly non-writeable) NumPy array using the tensor. You may want to copy the array to protect its data or make it writeable before converting it to a tensor. This type of warning will be suppressed for the rest of this program. (Triggered internally at  ../torch/csrc/utils/tensor_numpy.cpp:189.)\n",
            "  return default_collate([torch.as_tensor(b) for b in batch])\n"
          ]
        },
        {
          "output_type": "stream",
          "name": "stdout",
          "text": [
            "-----------------------------\n",
            "| batch_size    | 32        |\n",
            "| ent_loss      | -0.000563 |\n",
            "| entropy       | 0.563     |\n",
            "| epoch_num     | 0         |\n",
            "| l2_loss       | 0         |\n",
            "| l2_norm       | 41.8      |\n",
            "| loss          | 0.463     |\n",
            "| n_updates     | 100       |\n",
            "| neglogp       | 0.463     |\n",
            "| prob_true_act | 0.664     |\n",
            "-----------------------------\n",
            "-----------------------------\n",
            "| batch_size    | 32        |\n",
            "| ent_loss      | -0.000523 |\n",
            "| entropy       | 0.523     |\n",
            "| epoch_num     | 0         |\n",
            "| l2_loss       | 0         |\n",
            "| l2_norm       | 44.7      |\n",
            "| loss          | 0.402     |\n",
            "| n_updates     | 200       |\n",
            "| neglogp       | 0.403     |\n",
            "| prob_true_act | 0.7       |\n",
            "-----------------------------\n",
            "-----------------------------\n",
            "| batch_size    | 32        |\n",
            "| ent_loss      | -0.000438 |\n",
            "| entropy       | 0.438     |\n",
            "| epoch_num     | 0         |\n",
            "| l2_loss       | 0         |\n",
            "| l2_norm       | 47.7      |\n",
            "| loss          | 0.561     |\n",
            "| n_updates     | 300       |\n",
            "| neglogp       | 0.561     |\n",
            "| prob_true_act | 0.682     |\n",
            "-----------------------------\n",
            "-----------------------------\n",
            "| batch_size    | 32        |\n",
            "| ent_loss      | -0.000468 |\n",
            "| entropy       | 0.468     |\n",
            "| epoch_num     | 0         |\n",
            "| l2_loss       | 0         |\n",
            "| l2_norm       | 50.9      |\n",
            "| loss          | 0.518     |\n",
            "| n_updates     | 400       |\n",
            "| neglogp       | 0.518     |\n",
            "| prob_true_act | 0.673     |\n",
            "-----------------------------\n",
            "-----------------------------\n",
            "| batch_size    | 32        |\n",
            "| ent_loss      | -0.000514 |\n",
            "| entropy       | 0.514     |\n",
            "| epoch_num     | 0         |\n",
            "| l2_loss       | 0         |\n",
            "| l2_norm       | 54.2      |\n",
            "| loss          | 0.52      |\n",
            "| n_updates     | 500       |\n",
            "| neglogp       | 0.521     |\n",
            "| prob_true_act | 0.655     |\n",
            "-----------------------------\n",
            "-----------------------------\n",
            "| batch_size    | 32        |\n",
            "| ent_loss      | -0.000496 |\n",
            "| entropy       | 0.496     |\n",
            "| epoch_num     | 0         |\n",
            "| l2_loss       | 0         |\n",
            "| l2_norm       | 58.3      |\n",
            "| loss          | 0.599     |\n",
            "| n_updates     | 600       |\n",
            "| neglogp       | 0.599     |\n",
            "| prob_true_act | 0.64      |\n",
            "-----------------------------\n",
            "-----------------------------\n",
            "| batch_size    | 32        |\n",
            "| ent_loss      | -0.000488 |\n",
            "| entropy       | 0.488     |\n",
            "| epoch_num     | 0         |\n",
            "| l2_loss       | 0         |\n",
            "| l2_norm       | 63.7      |\n",
            "| loss          | 0.557     |\n",
            "| n_updates     | 700       |\n",
            "| neglogp       | 0.558     |\n",
            "| prob_true_act | 0.65      |\n",
            "-----------------------------\n",
            "-----------------------------\n",
            "| batch_size    | 32        |\n",
            "| ent_loss      | -0.000444 |\n",
            "| entropy       | 0.444     |\n",
            "| epoch_num     | 0         |\n",
            "| l2_loss       | 0         |\n",
            "| l2_norm       | 68.5      |\n",
            "| loss          | 0.567     |\n",
            "| n_updates     | 800       |\n",
            "| neglogp       | 0.567     |\n",
            "| prob_true_act | 0.651     |\n",
            "-----------------------------\n"
          ]
        }
      ]
    },
    {
      "cell_type": "markdown",
      "metadata": {
        "id": "SZorG8t3U1CM"
      },
      "source": [
        "Test in the environment the output policy.\n",
        "\n",
        "TODO: write the code to test the behaviour of the output policy on the environment and plot the rewards received. We will be able to select the action of the environment with \n",
        "\n",
        "      a,_ = bc_trainer.policy.predict(s)"
      ]
    },
    {
      "cell_type": "code",
      "metadata": {
        "id": "zHN4q40BVdj8",
        "colab": {
          "base_uri": "https://localhost:8080/"
        },
        "outputId": "4aa3b50c-f5a1-4af2-f392-867bf25fd33d"
      },
      "source": [
        "snum_episodes = 10\n",
        "rew_list=[]\n",
        "\n",
        "obs = env.reset()\n",
        "reward_sum = 0.0\n",
        "for i in range(snum_episodes):\n",
        "    #TODO: write the code to test the behaviour of the output policy on the environment for num_episodes\n",
        "    action, _ = bc_trainer.policy.predict(obs)\n",
        "    obs, reward, done, _ = env.step(action)\n",
        "    reward_sum += reward\n",
        "    env.render()\n",
        "    if done:\n",
        "      print(reward_sum)\n",
        "      reward_sum = 0.0\n",
        "      obs = env.reset()\n",
        "\n",
        "    rAll = reward_sum\n",
        "    rew_list.append(rAll)\n",
        "  \n",
        "env.close()\n",
        "    \n",
        "print('Complete')"
      ],
      "execution_count": 17,
      "outputs": [
        {
          "output_type": "stream",
          "name": "stdout",
          "text": [
            "Complete\n"
          ]
        }
      ]
    },
    {
      "cell_type": "code",
      "metadata": {
        "id": "F-Zb9dwaEj6-",
        "colab": {
          "base_uri": "https://localhost:8080/",
          "height": 283
        },
        "outputId": "c46b18a7-3fc8-4f66-8008-9ea82de66596"
      },
      "source": [
        "#check the learning process by plotting  the reward per episode \n",
        "plt.plot(rew_list)\n",
        "print(\"mean reward \",np.mean(rew_list))"
      ],
      "execution_count": 18,
      "outputs": [
        {
          "output_type": "stream",
          "name": "stdout",
          "text": [
            "mean reward  5.5\n"
          ]
        },
        {
          "output_type": "display_data",
          "data": {
            "text/plain": [
              "<Figure size 432x288 with 1 Axes>"
            ],
            "image/png": "[encoded data removed]"
          },
          "metadata": {
            "needs_background": "light"
          }
        }
      ]
    },
    {
      "cell_type": "markdown",
      "metadata": {
        "id": "0AiwN2EiQgJu"
      },
      "source": [
        "#Generative Adversarial Imitation Learning\n",
        "Let us train with the algoirthm GAIL. See the  documentation and examples from : \n",
        "\n",
        "\n",
        "*  https://github.com/HumanCompatibleAI/imitation/tree/master/examples\n",
        "*  https://stable-baselines3.readthedocs.io/en/master/guide/imitation.html\n",
        "*  (deprecated) https://stable-baselines.readthedocs.io/en/v2.4.0/modules/gail.html \n",
        "\n",
        "GAIL relies on a RL algorithm in its inner loop. One option is the algorithm PPO, which is a policy gradient algorithm (see a short explanation in https://stable-baselines3.readthedocs.io/en/master/modules/ppo.html)"
      ]
    },
    {
      "cell_type": "markdown",
      "source": [
        "TODO: implement GAIL for the cartpole on the same expert data. Report the rewards with respect to the number of traning time steps. Comment the results and contrast with the results from Behaviour Cloning."
      ],
      "metadata": {
        "id": "rw0ykRVm4cHK"
      }
    },
    {
      "cell_type": "code",
      "source": [
        "from imitation.algorithms.adversarial import GAIL\n",
        "from imitation.rewards.reward_nets import BasicRewardNet\n",
        "from stable_baselines3 import PPO\n",
        "from stable_baselines3.ppo import MlpPolicy"
      ],
      "metadata": {
        "id": "zpSYz3U_DPd7"
      },
      "execution_count": 19,
      "outputs": []
    },
    {
      "cell_type": "code",
      "metadata": {
        "id": "nddMRTPDLmE9",
        "colab": {
          "base_uri": "https://localhost:8080/"
        },
        "outputId": "986b7ccc-2898-4017-bc22-b084c2af0cbe"
      },
      "source": [
        "# Train GAIL on expert data.\n",
        "# GAIL also accepts as `expert_data` any Pytorch-style DataLoader that\n",
        "# iterates over dictionaries containing observations, actions, and next_observations.\n",
        "logger.configure(tempdir_path / \"GAIL/\")\n",
        "\n",
        "#TODO: implement GAIL for the cartpole on the loaded expert data\n",
        "\n",
        "learner = PPO(\n",
        "    env=venv,\n",
        "    policy=MlpPolicy,\n",
        "    batch_size=64,\n",
        "    ent_coef=0.0,\n",
        "    learning_rate=0.0003,\n",
        "    n_epochs=10,\n",
        ")\n",
        "\n",
        "gail_trainer = GAIL(\n",
        "    expert_data=transitions,\n",
        "    expert_batch_size=1024,\n",
        "    gen_replay_buffer_capacity=2048,\n",
        "    n_disc_updates_per_round=4,\n",
        "    venv=venv,\n",
        "    gen_algo = learner,\n",
        ")"
      ],
      "execution_count": 20,
      "outputs": [
        {
          "output_type": "stream",
          "name": "stdout",
          "text": [
            "Logging to /tmp/quickstarthzop1ym5/GAIL\n"
          ]
        }
      ]
    },
    {
      "cell_type": "markdown",
      "metadata": {
        "id": "sVCkmqCJluwP"
      },
      "source": [
        "Test in the environment the output policy.\n",
        "\n",
        "TODO: write the code to test the behaviour of the output policy on the environment. We will be able to select the action of the environment with \n",
        "\n",
        "      a,_ = gail_trainer.gen_algo.predict(s)"
      ]
    },
    {
      "cell_type": "code",
      "metadata": {
        "id": "1tC56eP4adOR",
        "colab": {
          "base_uri": "https://localhost:8080/"
        },
        "outputId": "204f47dd-3330-4271-cc4c-05d401a82880"
      },
      "source": [
        "num_episodes = 10\n",
        "rew_list=[]\n",
        "for i in range(num_episodes):\n",
        "    #TODO: write the code to test the behaviour of the output policy on the environment for num_episodes \n",
        "    action, _ = gail_trainer.gen_algo.predict(obs)\n",
        "    obs, reward, done, _ = env.step(action)\n",
        "    reward_sum += reward\n",
        "    env.render()\n",
        "    if done:\n",
        "      print(reward_sum)\n",
        "      reward_sum = 0.0\n",
        "      obs = env.reset()\n",
        "\n",
        "    rAll = reward_sum\n",
        "    rew_list.append(rAll)\n",
        "  \n",
        "env.close()\n",
        "    \n",
        "print('Complete')"
      ],
      "execution_count": 21,
      "outputs": [
        {
          "output_type": "stream",
          "name": "stdout",
          "text": [
            "Complete\n"
          ]
        }
      ]
    },
    {
      "cell_type": "code",
      "metadata": {
        "id": "NwbbvUKCaeYo",
        "colab": {
          "base_uri": "https://localhost:8080/",
          "height": 283
        },
        "outputId": "e8c91ab9-c7bb-4fe1-a221-1aed81e1512b"
      },
      "source": [
        "#check the learning process by plotting  the reward per episode \n",
        "plt.plot(rew_list)\n",
        "print(\"mean reward \",np.mean(rew_list))"
      ],
      "execution_count": 22,
      "outputs": [
        {
          "output_type": "stream",
          "name": "stdout",
          "text": [
            "mean reward  15.5\n"
          ]
        },
        {
          "output_type": "display_data",
          "data": {
            "text/plain": [
              "<Figure size 432x288 with 1 Axes>"
            ],
            "image/png": "[encoded data removed]"
          },
          "metadata": {
            "needs_background": "light"
          }
        }
      ]
    },
    {
      "cell_type": "markdown",
      "source": [
        "# A Robot environment with Pybullet\n",
        "\n",
        "You can use a robot using pybullet physical simulator. Documentation about pybullet can be read on https://pybullet.org/wordpress/index.php/forum-2/.\n",
        "Below is an example of code to use a robot arm or a humanoid agent."
      ],
      "metadata": {
        "id": "snQfoo1V_QVX"
      }
    },
    {
      "cell_type": "code",
      "source": [
        "#INSTALL THE PACKAGES\n",
        "!pip3 install pybullet --upgrade\n",
        "!pip3 install stable_baselines --upgrade\n",
        "!pip3 install tensorflow==1.14.0 #tensorflow deprecates and breaks their API\n",
        "#see PyBullet Quickstart Guide at\n",
        "#https://docs.google.com/document/d/10sXEhzFRSnvFcl3XxNGhnD4N2SedqwdAvK3dsihxVUA/edit\n",
        "!pip3 install pyvirtualdisplay > /dev/null 2>&1"
      ],
      "metadata": {
        "colab": {
          "base_uri": "https://localhost:8080/",
          "height": 1000
        },
        "id": "CpnHPtks_kIO",
        "outputId": "202ae775-633a-477a-a84f-4f30ad38bde9"
      },
      "execution_count": 23,
      "outputs": [
        {
          "output_type": "stream",
          "name": "stdout",
          "text": [
            "Collecting pybullet\n",
            "  Downloading pybullet-3.2.2-cp37-cp37m-manylinux_2_5_x86_64.manylinux1_x86_64.whl (91.7 MB)\n",
            "\u001b[K     |████████████████████████████████| 91.7 MB 87 kB/s \n",
            "\u001b[?25hInstalling collected packages: pybullet\n",
            "Successfully installed pybullet-3.2.2\n",
            "Requirement already satisfied: stable_baselines in /usr/local/lib/python3.7/dist-packages (2.10.2)\n",
            "Requirement already satisfied: gym[atari,classic_control]>=0.11 in /usr/local/lib/python3.7/dist-packages (from stable_baselines) (0.17.3)\n",
            "Requirement already satisfied: opencv-python in /usr/local/lib/python3.7/dist-packages (from stable_baselines) (4.1.2.30)\n",
            "Requirement already satisfied: cloudpickle>=0.5.5 in /usr/local/lib/python3.7/dist-packages (from stable_baselines) (1.3.0)\n",
            "Requirement already satisfied: pandas in /usr/local/lib/python3.7/dist-packages (from stable_baselines) (1.3.5)\n",
            "Requirement already satisfied: matplotlib in /usr/local/lib/python3.7/dist-packages (from stable_baselines) (3.2.2)\n",
            "Requirement already satisfied: scipy in /usr/local/lib/python3.7/dist-packages (from stable_baselines) (1.4.1)\n",
            "Requirement already satisfied: numpy in /usr/local/lib/python3.7/dist-packages (from stable_baselines) (1.21.5)\n",
            "Requirement already satisfied: joblib in /usr/local/lib/python3.7/dist-packages (from stable_baselines) (1.1.0)\n",
            "Requirement already satisfied: pyglet<=1.5.0,>=1.4.0 in /usr/local/lib/python3.7/dist-packages (from gym[atari,classic_control]>=0.11->stable_baselines) (1.5.0)\n",
            "Requirement already satisfied: Pillow in /usr/local/lib/python3.7/dist-packages (from gym[atari,classic_control]>=0.11->stable_baselines) (7.1.2)\n",
            "Requirement already satisfied: atari-py~=0.2.0 in /usr/local/lib/python3.7/dist-packages (from gym[atari,classic_control]>=0.11->stable_baselines) (0.2.9)\n",
            "Requirement already satisfied: six in /usr/local/lib/python3.7/dist-packages (from atari-py~=0.2.0->gym[atari,classic_control]>=0.11->stable_baselines) (1.15.0)\n",
            "Requirement already satisfied: future in /usr/local/lib/python3.7/dist-packages (from pyglet<=1.5.0,>=1.4.0->gym[atari,classic_control]>=0.11->stable_baselines) (0.16.0)\n",
            "Requirement already satisfied: pyparsing!=2.0.4,!=2.1.2,!=2.1.6,>=2.0.1 in /usr/local/lib/python3.7/dist-packages (from matplotlib->stable_baselines) (3.0.8)\n",
            "Requirement already satisfied: python-dateutil>=2.1 in /usr/local/lib/python3.7/dist-packages (from matplotlib->stable_baselines) (2.8.2)\n",
            "Requirement already satisfied: cycler>=0.10 in /usr/local/lib/python3.7/dist-packages (from matplotlib->stable_baselines) (0.11.0)\n",
            "Requirement already satisfied: kiwisolver>=1.0.1 in /usr/local/lib/python3.7/dist-packages (from matplotlib->stable_baselines) (1.4.2)\n",
            "Requirement already satisfied: typing-extensions in /usr/local/lib/python3.7/dist-packages (from kiwisolver>=1.0.1->matplotlib->stable_baselines) (4.1.1)\n",
            "Requirement already satisfied: pytz>=2017.3 in /usr/local/lib/python3.7/dist-packages (from pandas->stable_baselines) (2018.9)\n",
            "Collecting tensorflow==1.14.0\n",
            "  Downloading tensorflow-1.14.0-cp37-cp37m-manylinux1_x86_64.whl (109.3 MB)\n",
            "\u001b[K     |████████████████████████████████| 109.3 MB 51 kB/s \n",
            "\u001b[?25hRequirement already satisfied: keras-preprocessing>=1.0.5 in /usr/local/lib/python3.7/dist-packages (from tensorflow==1.14.0) (1.1.2)\n",
            "Requirement already satisfied: numpy<2.0,>=1.14.5 in /usr/local/lib/python3.7/dist-packages (from tensorflow==1.14.0) (1.21.5)\n",
            "Requirement already satisfied: protobuf>=3.6.1 in /usr/local/lib/python3.7/dist-packages (from tensorflow==1.14.0) (3.17.3)\n",
            "Requirement already satisfied: gast>=0.2.0 in /usr/local/lib/python3.7/dist-packages (from tensorflow==1.14.0) (0.5.3)\n",
            "Requirement already satisfied: google-pasta>=0.1.6 in /usr/local/lib/python3.7/dist-packages (from tensorflow==1.14.0) (0.2.0)\n",
            "Collecting tensorboard<1.15.0,>=1.14.0\n",
            "  Downloading tensorboard-1.14.0-py3-none-any.whl (3.1 MB)\n",
            "\u001b[K     |████████████████████████████████| 3.1 MB 49.7 MB/s \n",
            "\u001b[?25hCollecting tensorflow-estimator<1.15.0rc0,>=1.14.0rc0\n",
            "  Downloading tensorflow_estimator-1.14.0-py2.py3-none-any.whl (488 kB)\n",
            "\u001b[K     |████████████████████████████████| 488 kB 43.3 MB/s \n",
            "\u001b[?25hRequirement already satisfied: wheel>=0.26 in /usr/local/lib/python3.7/dist-packages (from tensorflow==1.14.0) (0.37.1)\n",
            "Requirement already satisfied: wrapt>=1.11.1 in /usr/local/lib/python3.7/dist-packages (from tensorflow==1.14.0) (1.14.0)\n",
            "Requirement already satisfied: six>=1.10.0 in /usr/local/lib/python3.7/dist-packages (from tensorflow==1.14.0) (1.15.0)\n",
            "Requirement already satisfied: grpcio>=1.8.6 in /usr/local/lib/python3.7/dist-packages (from tensorflow==1.14.0) (1.44.0)\n",
            "Requirement already satisfied: astor>=0.6.0 in /usr/local/lib/python3.7/dist-packages (from tensorflow==1.14.0) (0.8.1)\n",
            "Requirement already satisfied: termcolor>=1.1.0 in /usr/local/lib/python3.7/dist-packages (from tensorflow==1.14.0) (1.1.0)\n",
            "Collecting keras-applications>=1.0.6\n",
            "  Downloading Keras_Applications-1.0.8-py3-none-any.whl (50 kB)\n",
            "\u001b[K     |████████████████████████████████| 50 kB 5.9 MB/s \n",
            "\u001b[?25hRequirement already satisfied: absl-py>=0.7.0 in /usr/local/lib/python3.7/dist-packages (from tensorflow==1.14.0) (1.0.0)\n",
            "Requirement already satisfied: h5py in /usr/local/lib/python3.7/dist-packages (from keras-applications>=1.0.6->tensorflow==1.14.0) (3.1.0)\n",
            "Requirement already satisfied: markdown>=2.6.8 in /usr/local/lib/python3.7/dist-packages (from tensorboard<1.15.0,>=1.14.0->tensorflow==1.14.0) (3.3.6)\n",
            "Requirement already satisfied: setuptools>=41.0.0 in /usr/local/lib/python3.7/dist-packages (from tensorboard<1.15.0,>=1.14.0->tensorflow==1.14.0) (57.4.0)\n",
            "Requirement already satisfied: werkzeug>=0.11.15 in /usr/local/lib/python3.7/dist-packages (from tensorboard<1.15.0,>=1.14.0->tensorflow==1.14.0) (1.0.1)\n",
            "Requirement already satisfied: importlib-metadata>=4.4 in /usr/local/lib/python3.7/dist-packages (from markdown>=2.6.8->tensorboard<1.15.0,>=1.14.0->tensorflow==1.14.0) (4.11.3)\n",
            "Requirement already satisfied: zipp>=0.5 in /usr/local/lib/python3.7/dist-packages (from importlib-metadata>=4.4->markdown>=2.6.8->tensorboard<1.15.0,>=1.14.0->tensorflow==1.14.0) (3.8.0)\n",
            "Requirement already satisfied: typing-extensions>=3.6.4 in /usr/local/lib/python3.7/dist-packages (from importlib-metadata>=4.4->markdown>=2.6.8->tensorboard<1.15.0,>=1.14.0->tensorflow==1.14.0) (4.1.1)\n",
            "Requirement already satisfied: cached-property in /usr/local/lib/python3.7/dist-packages (from h5py->keras-applications>=1.0.6->tensorflow==1.14.0) (1.5.2)\n",
            "Installing collected packages: tensorflow-estimator, tensorboard, keras-applications, tensorflow\n",
            "  Attempting uninstall: tensorflow-estimator\n",
            "    Found existing installation: tensorflow-estimator 2.8.0\n",
            "    Uninstalling tensorflow-estimator-2.8.0:\n",
            "      Successfully uninstalled tensorflow-estimator-2.8.0\n",
            "  Attempting uninstall: tensorboard\n",
            "    Found existing installation: tensorboard 2.8.0\n",
            "    Uninstalling tensorboard-2.8.0:\n",
            "      Successfully uninstalled tensorboard-2.8.0\n",
            "  Attempting uninstall: tensorflow\n",
            "    Found existing installation: tensorflow 2.8.0\n",
            "    Uninstalling tensorflow-2.8.0:\n",
            "      Successfully uninstalled tensorflow-2.8.0\n",
            "\u001b[31mERROR: pip's dependency resolver does not currently take into account all the packages that are installed. This behaviour is the source of the following dependency conflicts.\n",
            "kapre 0.3.7 requires tensorflow>=2.0.0, but you have tensorflow 1.14.0 which is incompatible.\u001b[0m\n",
            "Successfully installed keras-applications-1.0.8 tensorboard-1.14.0 tensorflow-1.14.0 tensorflow-estimator-1.14.0\n"
          ]
        },
        {
          "output_type": "display_data",
          "data": {
            "application/vnd.colab-display-data+json": {
              "pip_warning": {
                "packages": [
                  "tensorboard"
                ]
              }
            }
          },
          "metadata": {}
        }
      ]
    },
    {
      "cell_type": "code",
      "source": [
        "#connect to the physical simulator\n",
        "import pybullet\n",
        "import pybullet_data\n",
        "datapath = pybullet_data.getDataPath()\n",
        "pybullet.connect(pybullet.DIRECT)"
      ],
      "metadata": {
        "colab": {
          "base_uri": "https://localhost:8080/"
        },
        "id": "5fNgsnWe_3G1",
        "outputId": "130b6764-537a-42c6-cce9-9d3dc00b6116"
      },
      "execution_count": 24,
      "outputs": [
        {
          "output_type": "execute_result",
          "data": {
            "text/plain": [
              "0"
            ]
          },
          "metadata": {},
          "execution_count": 24
        }
      ]
    },
    {
      "cell_type": "markdown",
      "source": [
        "PyBullet offers several robotics environments. \n",
        "\n",
        "The implementation of the Kuka robot arm can be found in https://github.com/bulletphysics/bullet3/blob/master/examples/pybullet/gym/pybullet_envs/bullet/kukaGymEnv.py.\n",
        "\n",
        "The implementation of the humanoid, ant ... can be found in https://github.com/bulletphysics/bullet3/blob/master/examples/pybullet/gym/pybullet_envs/gym_locomotion_envs.py. \n",
        "\n",
        "The implementation fo the reacher can be found in https://github.com/bulletphysics/bullet3/blob/master/examples/pybullet/gym/pybullet_envs/gym_manipulator_envs.py\n",
        "\n",
        "Documentation on the mujoco humanoid environment is : https://github.com/openai/gym/wiki/Humanoid-V1\n",
        "\n",
        "You can also find a documentation on PyBullet on https://usermanual.wiki/Document/PyBullet20Quickstart20Guide.543993445/html or https://docs.google.com/document/d/10sXEhzFRSnvFcl3XxNGhnD4N2SedqwdAvK3dsihxVUA/edit#heading=h.2ye70wns7io3, including the API functions to control the robot from page 18. \n"
      ],
      "metadata": {
        "id": "YA_tJ-PRAAmn"
      }
    },
    {
      "cell_type": "markdown",
      "source": [
        "Below is an example code to run the Humanoid environment"
      ],
      "metadata": {
        "id": "g80ZUjq2AtlY"
      }
    },
    {
      "cell_type": "code",
      "source": [
        "import gym\n",
        "import time\n",
        "import pybullet_envs\n",
        "\n",
        "#Below are a few examples of agents in pybullet\n",
        "env = gym.make(\"HumanoidBulletEnv-v0\")\n",
        "# env = gym.make(\"AntBulletEnv-v0\")\n",
        "# env = gym.make(\"HalfCheetahBulletEnv-v0\")\n",
        "# env = gym.make('ReacherBulletEnv-v0')\n",
        "\n",
        "# env = gym.make(\"KukaBulletEnv-v0\") #KUKA robot arm grasping environments\n",
        "#https://programmersought.com/article/69341201576/\n",
        "#The environment uses the KUKA liwa robotic arm with the goal of grabbing objects placed in the tray. When the robot arm grabs the target to a certain height, the system is rewarded. In order to optimize the entire crawling process, a small amount of reward is given based on the distance between the action, the gripper and the target. The observed value (ie, state) is represented by the coordinate value (x, y) of the target.\n",
        "#The observations in KukaCamBulletEnv-v0 are represented by camera pixel values, and the others are identical to the previous version (ie camera pixels).\n",
        "#https://colab.research.google.com/github/mahyaret/kuka_rl/blob/master/kuka_rl_2.ipynb\n",
        "#https://github.com/mahyaret/kuka_rl\n",
        "\n",
        "\n",
        "# env = gym.make(\"CartPoleBulletEnv-v0\")\n",
        "\n",
        "\n",
        "# Display information about the environment\n",
        "aspace = env.action_space\n",
        "ospace = env.observation_space\n",
        "print(\"The action space is {}\".format(aspace))\n",
        "print(\"The dimension of the action space is {}\".format(aspace.shape[0]))\n",
        "print(\"The observation space is {}\".format(ospace))\n",
        "#env.render(mode=\"human\")\n",
        "obs= env.reset()\n",
        "print(\"obs \",obs)\n",
        "obs= env.reset()\n",
        "print(\"obs \",obs)\n",
        "obs= env.reset()\n",
        "print(\"obs \",obs)\n",
        "images = []\n",
        "\n",
        "\n"
      ],
      "metadata": {
        "colab": {
          "base_uri": "https://localhost:8080/"
        },
        "id": "JllIY0dhAyj8",
        "outputId": "c6d482d3-64ee-4c5c-94ff-6e7c1500606d"
      },
      "execution_count": 25,
      "outputs": [
        {
          "output_type": "stream",
          "name": "stdout",
          "text": [
            "The action space is Box(-1.0, 1.0, (17,), float32)\n",
            "The dimension of the action space is 17\n",
            "The observation space is Box(-inf, inf, (44,), float32)\n",
            "obs  [ 5.9999996e-01 -1.4189096e-07  1.0000000e+00  0.0000000e+00\n",
            "  0.0000000e+00  0.0000000e+00  0.0000000e+00 -0.0000000e+00\n",
            "  5.9744060e-02  0.0000000e+00  3.9162725e-01  0.0000000e+00\n",
            " -4.1521575e-02  0.0000000e+00  9.1613775e-01  0.0000000e+00\n",
            "  1.9642781e-01  0.0000000e+00  6.6183466e-01  0.0000000e+00\n",
            "  9.5357913e-01  0.0000000e+00  6.3129330e-01  0.0000000e+00\n",
            "  2.7337950e-01  0.0000000e+00  7.3171240e-01  0.0000000e+00\n",
            "  1.0060786e+00  0.0000000e+00  9.6673720e-02  0.0000000e+00\n",
            "  1.8981095e-01  0.0000000e+00  3.1153479e-01  0.0000000e+00\n",
            " -1.3312216e-01  0.0000000e+00 -1.2932119e-01  0.0000000e+00\n",
            "  3.4761095e-01  0.0000000e+00  0.0000000e+00  0.0000000e+00]\n",
            "obs  [ 5.9999996e-01 -9.3932374e-07  1.0000000e+00  0.0000000e+00\n",
            "  0.0000000e+00  0.0000000e+00  0.0000000e+00 -0.0000000e+00\n",
            "  4.0310387e-02  0.0000000e+00  3.2102194e-01  0.0000000e+00\n",
            "  1.1228217e-02  0.0000000e+00  1.0396817e+00  0.0000000e+00\n",
            "  3.7277433e-01  0.0000000e+00  6.5897280e-01  0.0000000e+00\n",
            "  1.0722475e+00  0.0000000e+00  1.0376710e+00  0.0000000e+00\n",
            "  3.5814992e-01  0.0000000e+00  7.1129662e-01  0.0000000e+00\n",
            "  1.0815438e+00  0.0000000e+00  1.5935817e-01  0.0000000e+00\n",
            "  1.1425436e-01  0.0000000e+00  2.8988785e-01  0.0000000e+00\n",
            " -2.1947820e-01  0.0000000e+00 -1.5161723e-01  0.0000000e+00\n",
            "  2.1019512e-01  0.0000000e+00  0.0000000e+00  0.0000000e+00]\n",
            "obs  [ 5.9999996e-01 -2.3433475e-05  1.0000000e+00  0.0000000e+00\n",
            "  0.0000000e+00  0.0000000e+00  0.0000000e+00 -0.0000000e+00\n",
            " -1.1849140e-01  0.0000000e+00  4.0219536e-01  0.0000000e+00\n",
            "  1.5753627e-01  0.0000000e+00  8.4921533e-01  0.0000000e+00\n",
            "  2.6159471e-01  0.0000000e+00  6.3698590e-01  0.0000000e+00\n",
            "  1.0218539e+00  0.0000000e+00  4.7062176e-01  0.0000000e+00\n",
            "  2.6662660e-01  0.0000000e+00  7.2025704e-01  0.0000000e+00\n",
            "  1.0696547e+00  0.0000000e+00  1.9169869e-01  0.0000000e+00\n",
            "  1.8902098e-01  0.0000000e+00  2.2262980e-01  0.0000000e+00\n",
            " -1.9766669e-01  0.0000000e+00 -1.7547248e-01  0.0000000e+00\n",
            "  3.4417078e-01  0.0000000e+00  0.0000000e+00  0.0000000e+00]\n"
          ]
        }
      ]
    },
    {
      "cell_type": "markdown",
      "source": [
        "To display a simulated episode."
      ],
      "metadata": {
        "id": "BkOWQg0HA9hE"
      }
    },
    {
      "cell_type": "code",
      "source": [
        "#run an episode of 20 steps\n",
        "#while True:\n",
        "for i in range(20):\n",
        "    #env.render(mode=\"human\")\n",
        "    time.sleep(0.01)\n",
        "    action = env.action_space.sample()\n",
        "    # print(\"action: {}\".format(action))\n",
        "    observation, _, done, info = env.step(action)\n",
        "    img = env.render(mode='rgb_array')\n",
        "    images.append(img)\n",
        "    \n",
        "    \n",
        "#display the video\n",
        "from IPython.display import Image\n",
        "!pip3 install numpngw\n",
        "from numpngw import write_apng\n",
        "\n",
        "#imageio.mimsave('a2c.gif', [np.array(img) for i, img in enumerate(images) if i%2 == 0], fps=29)\n",
        "write_apng('anim.png', images, delay=20)\n",
        "Image(filename='anim.png')"
      ],
      "metadata": {
        "colab": {
          "base_uri": "https://localhost:8080/",
          "height": 366
        },
        "id": "yn7gi5XHA-N-",
        "outputId": "f8ce2c8d-2154-425e-e799-241bb0d521c2"
      },
      "execution_count": 26,
      "outputs": [
        {
          "output_type": "stream",
          "name": "stdout",
          "text": [
            "Collecting numpngw\n",
            "  Downloading numpngw-0.1.0-py3-none-any.whl (21 kB)\n",
            "Requirement already satisfied: numpy>=1.6.0 in /usr/local/lib/python3.7/dist-packages (from numpngw) (1.21.5)\n",
            "Installing collected packages: numpngw\n",
            "Successfully installed numpngw-0.1.0\n"
          ]
        },
        {
          "output_type": "execute_result",
          "data": {
            "text/plain": [
              "<IPython.core.display.Image object>"
            ],
            "image/png": "[encoded data removed]"
          },
          "metadata": {},
          "execution_count": 26
        }
      ]
    },
    {
      "cell_type": "markdown",
      "source": [
        "TODO : Train your agent with an algorithm of your choice. You can implement yourself the algorithm or use stable_baselines library. Report the performance of your agent by plotting the reward with respect to the training steps."
      ],
      "metadata": {
        "id": "BvDtlvQjBp1r"
      }
    },
    {
      "cell_type": "code",
      "source": [
        "#TODO : Train your agent with an algorithm of your choice and report the performance\n",
        "\n",
        "from stable_baselines3 import PPO\n",
        "from stable_baselines3.ppo import MlpPolicy\n",
        "expert = PPO(\n",
        "    policy=MlpPolicy,\n",
        "    env=env,\n",
        "    seed=0,\n",
        "    batch_size=64,\n",
        "    ent_coef=0.0,\n",
        "    learning_rate=0.0003,\n",
        "    n_epochs=10,\n",
        "    n_steps=64,\n",
        ")\n",
        "# expert.learn(1000)\n"
      ],
      "metadata": {
        "id": "eWnY4JSMB_et"
      },
      "execution_count": 27,
      "outputs": []
    },
    {
      "cell_type": "code",
      "source": [
        "from stable_baselines3.common.evaluation import evaluate_policy\n",
        "\n",
        "reward, _ = evaluate_policy(expert, env, 10)\n",
        "print(reward)"
      ],
      "metadata": {
        "colab": {
          "base_uri": "https://localhost:8080/"
        },
        "id": "FTtmlZcNajvJ",
        "outputId": "8ba7d6ad-d62f-4a78-cdd6-e25030d8fd79"
      },
      "execution_count": 28,
      "outputs": [
        {
          "output_type": "stream",
          "name": "stdout",
          "text": [
            "58.0569105947125\n"
          ]
        }
      ]
    },
    {
      "cell_type": "code",
      "source": [
        "from imitation.data import rollout\n",
        "from imitation.data.wrappers import RolloutInfoWrapper\n",
        "from stable_baselines3.common.vec_env import DummyVecEnv\n",
        "\n",
        "rollouts = rollout.generate_trajectories(\n",
        "      policy=expert,\n",
        "      venv=DummyVecEnv([lambda: RolloutInfoWrapper(env)]),\n",
        "      sample_until=rollout.make_sample_until(None, 50),\n",
        ")\n",
        " \n",
        "transitions = rollout.flatten_trajectories(rollouts)"
      ],
      "metadata": {
        "id": "DuY1IMoLXkgW"
      },
      "execution_count": 29,
      "outputs": []
    },
    {
      "cell_type": "code",
      "source": [
        "from stable_baselines3.common.evaluation import evaluate_policy\n",
        "\n",
        "reward, _ = evaluate_policy(expert, env, 10)\n",
        "print(reward)"
      ],
      "metadata": {
        "colab": {
          "base_uri": "https://localhost:8080/"
        },
        "id": "wxFqVJf-g8oA",
        "outputId": "d462c20b-046e-4c6d-c03e-43138306628a"
      },
      "execution_count": 30,
      "outputs": [
        {
          "output_type": "stream",
          "name": "stdout",
          "text": [
            "53.31303401604232\n"
          ]
        }
      ]
    },
    {
      "cell_type": "code",
      "source": [
        "from imitation.algorithms import bc\n",
        "bc_trainer = bc.BC(ospace, aspace, expert_data=transitions)\n",
        "\n",
        "reward_before_training, _ = evaluate_policy(bc_trainer.policy, env, 10)\n",
        "print(f\"Reward before training: {reward_before_training}\")\n",
        "\n"
      ],
      "metadata": {
        "colab": {
          "base_uri": "https://localhost:8080/"
        },
        "id": "BHaXE9RsXlRp",
        "outputId": "54ea673c-3e01-42d1-fffa-244794e3c74b"
      },
      "execution_count": 31,
      "outputs": [
        {
          "output_type": "stream",
          "name": "stdout",
          "text": [
            "Reward before training: 49.57226970833112\n"
          ]
        }
      ]
    },
    {
      "cell_type": "code",
      "source": [
        "bc_trainer.train(n_epochs=1)\n",
        "\n",
        "reward_after_training, _ = evaluate_policy(bc_trainer.policy, env, 10)\n",
        "print(f\"Reward after training: {reward_after_training}\")"
      ],
      "metadata": {
        "colab": {
          "base_uri": "https://localhost:8080/",
          "height": 67,
          "referenced_widgets": [
            "6e29c151a4064f2a83a008a38f6ffaec",
            "7c689e627e3449bf8bdc8d014831e1b7",
            "67d6efd726364f16bc895cb5e7e27964",
            "e4e24406ac8b4566a5e6204c6f003863",
            "7f8c4c76c2ff4bc993b342c87e90ced9",
            "0628ac003a7145bd97225305e2c8d6ae",
            "821959f8c5a34631aae5878d404a8640",
            "806d3bdb262c4900a8439fe5cd748e16",
            "bd6b4ffbcaa14df2a17d6e6e4572b60a",
            "3a7b90399160490abe96f28ee6c97b31",
            "9b53cbbb53c74546a6daf57f9c36ba9a"
          ]
        },
        "id": "tJy_dekWhFeM",
        "outputId": "e5974b06-052d-424c-d4ba-cc6c8c41f758"
      },
      "execution_count": 32,
      "outputs": [
        {
          "output_type": "display_data",
          "data": {
            "text/plain": [
              "BC epoch:   0%|          | 0/1 [00:00<?, ?it/s]"
            ],
            "application/vnd.jupyter.widget-view+json": {
              "version_major": 2,
              "version_minor": 0,
              "model_id": "6e29c151a4064f2a83a008a38f6ffaec"
            }
          },
          "metadata": {}
        },
        {
          "output_type": "stream",
          "name": "stdout",
          "text": [
            "Reward after training: 49.35476832686094\n"
          ]
        }
      ]
    },
    {
      "cell_type": "markdown",
      "source": [
        "# Use the trained agent as a new expert\n",
        "\n",
        "TODO : use the previously trained agent to constitute an expert dataset"
      ],
      "metadata": {
        "id": "JL91Svt7B5o3"
      }
    },
    {
      "cell_type": "code",
      "source": [
        "!pip3 install mpi4py"
      ],
      "metadata": {
        "colab": {
          "base_uri": "https://localhost:8080/"
        },
        "id": "8ryy0_KLGWdW",
        "outputId": "4dd2a94e-2bbe-4785-d972-3cdd831a0f64"
      },
      "execution_count": 36,
      "outputs": [
        {
          "output_type": "stream",
          "name": "stdout",
          "text": [
            "Collecting mpi4py\n",
            "  Downloading mpi4py-3.1.3.tar.gz (2.5 MB)\n",
            "\u001b[K     |████████████████████████████████| 2.5 MB 7.9 MB/s \n",
            "\u001b[?25h  Installing build dependencies ... \u001b[?25l\u001b[?25hdone\n",
            "  Getting requirements to build wheel ... \u001b[?25l\u001b[?25hdone\n",
            "    Preparing wheel metadata ... \u001b[?25l\u001b[?25hdone\n",
            "Building wheels for collected packages: mpi4py\n",
            "  Building wheel for mpi4py (PEP 517) ... \u001b[?25l\u001b[?25hdone\n",
            "  Created wheel for mpi4py: filename=mpi4py-3.1.3-cp37-cp37m-linux_x86_64.whl size=2185299 sha256=c6ed636f21d039e19adc4ca82cff2fac811c713b9c68d5c3b4c79eb00056c130\n",
            "  Stored in directory: /root/.cache/pip/wheels/7a/07/14/6a0c63fa2c6e473c6edc40985b7d89f05c61ff25ee7f0ad9ac\n",
            "Successfully built mpi4py\n",
            "Installing collected packages: mpi4py\n",
            "Successfully installed mpi4py-3.1.3\n"
          ]
        }
      ]
    },
    {
      "cell_type": "code",
      "source": [
        "#TODO : obtain a demonstration dataset from the previously trained agent\n",
        "from stable_baselines.gail import generate_expert_traj\n",
        "\n",
        "def dummy_expert(_obs):\n",
        "    \"\"\"\n",
        "    Random agent. It samples actions randomly\n",
        "    from the action space of the environment.\n",
        "\n",
        "    :param _obs: (np.ndarray) Current observation\n",
        "    :return: (np.ndarray) action taken by the expert\n",
        "    \"\"\"\n",
        "    return env.action_space.sample()\n",
        "# Data will be saved in a numpy archive named `expert_cartpole.npz`\n",
        "# when using something different than an RL expert,\n",
        "# you must pass the environment object explicitly\n",
        "generate_expert_traj(dummy_expert, 'dummy_expert_HumanoidBullet', env, n_episodes=10)\n",
        "\n",
        "# generate_expert_traj(env.action_space.sample(), 'expert_pendulum', n_timesteps=60000, n_episodes=10)"
      ],
      "metadata": {
        "id": "93DDiTCACgWQ",
        "colab": {
          "base_uri": "https://localhost:8080/"
        },
        "outputId": "4af7a8e4-5a41-42ab-d082-f386b8dc9cc0"
      },
      "execution_count": 41,
      "outputs": [
        {
          "output_type": "stream",
          "name": "stdout",
          "text": [
            "actions (200, 17)\n",
            "obs (200, 44)\n",
            "rewards (200,)\n",
            "episode_returns (10,)\n",
            "episode_starts (200,)\n"
          ]
        },
        {
          "output_type": "execute_result",
          "data": {
            "text/plain": [
              "{'actions': array([[-0.8912799 ,  0.9307819 ,  0.2653819 , ...,  0.89409685,\n",
              "          0.39855564, -0.09305939],\n",
              "        [ 0.8055637 , -0.91821545,  0.84435356, ..., -0.3314372 ,\n",
              "          0.03515413,  0.8076705 ],\n",
              "        [-0.1817429 , -0.19668381,  0.8145447 , ...,  0.08923861,\n",
              "          0.8317881 , -0.85856843],\n",
              "        ...,\n",
              "        [-0.51649433, -0.02345066, -0.31535813, ...,  0.34810796,\n",
              "         -0.94059414,  0.8661762 ],\n",
              "        [ 0.0777278 , -0.69321245,  0.6519793 , ..., -0.89770937,\n",
              "         -0.14416108, -0.10143799],\n",
              "        [-0.9929866 ,  0.5906719 ,  0.8910374 , ...,  0.67238665,\n",
              "          0.99517167, -0.9667132 ]], dtype=float32),\n",
              " 'episode_returns': array([-20.8172676 , -25.45505344, -27.0918051 , -30.10467222,\n",
              "        -18.86873379, -25.23197547, -32.60149072, -29.91567821,\n",
              "        -33.1014658 , -22.06610552]),\n",
              " 'episode_starts': array([ True, False, False, False, False, False, False, False, False,\n",
              "        False, False, False, False, False, False, False, False, False,\n",
              "         True, False, False, False, False, False, False, False, False,\n",
              "        False, False, False, False, False, False, False, False, False,\n",
              "        False, False,  True, False, False, False, False, False, False,\n",
              "        False, False, False, False, False, False, False, False, False,\n",
              "        False, False, False,  True, False, False, False, False, False,\n",
              "        False, False, False, False, False, False, False, False, False,\n",
              "        False, False, False, False,  True, False, False, False, False,\n",
              "        False, False, False, False, False, False, False, False, False,\n",
              "        False, False, False, False, False, False,  True, False, False,\n",
              "        False, False, False, False, False, False, False, False, False,\n",
              "        False, False, False, False, False, False, False, False,  True,\n",
              "        False, False, False, False, False, False, False, False, False,\n",
              "        False, False, False, False, False, False, False, False, False,\n",
              "        False, False, False, False,  True, False, False, False, False,\n",
              "        False, False, False, False, False, False, False, False, False,\n",
              "        False, False, False, False, False,  True, False, False, False,\n",
              "        False, False, False, False, False, False, False, False, False,\n",
              "        False, False, False, False, False,  True, False, False, False,\n",
              "        False, False, False, False, False, False, False, False, False,\n",
              "        False, False, False, False, False, False, False, False, False,\n",
              "        False, False]),\n",
              " 'obs': array([[ 5.9999996e-01, -1.3259577e-06,  1.0000000e+00, ...,\n",
              "          0.0000000e+00,  0.0000000e+00,  0.0000000e+00],\n",
              "        [ 5.9852552e-01, -1.7240444e-02,  9.9985135e-01, ...,\n",
              "         -2.2061063e-01,  0.0000000e+00,  0.0000000e+00],\n",
              "        [ 5.9347564e-01, -2.1656228e-02,  9.9976546e-01, ...,\n",
              "          1.0939546e+00,  0.0000000e+00,  0.0000000e+00],\n",
              "        ...,\n",
              "        [ 6.9970965e-02, -2.8775170e-01,  9.5770502e-01, ...,\n",
              "          3.0281405e+00,  0.0000000e+00,  1.0000000e+00],\n",
              "        [ 3.3216350e-02, -2.8429663e-01,  9.5873636e-01, ...,\n",
              "          4.1320095e+00,  0.0000000e+00,  1.0000000e+00],\n",
              "        [-9.6362978e-03, -3.0744740e-01,  9.5156509e-01, ...,\n",
              "         -2.8493270e-01,  0.0000000e+00,  1.0000000e+00]], dtype=float32),\n",
              " 'rewards': array([-0.2727289 , -2.02617674, -0.67551769, -1.6327128 , -3.20912232,\n",
              "         0.58803042, -3.09883515, -0.9363518 , -1.35163935, -1.13097625,\n",
              "        -0.53648331, -0.77899856,  0.39924842, -0.56086906,  0.64548312,\n",
              "        -0.62816559, -0.43460831, -5.17684372, -1.50662546, -0.83261277,\n",
              "        -3.18872751, -1.44662591, -1.7619284 , -2.39194795, -0.78273426,\n",
              "        -1.77422845, -0.05307326, -0.93330363, -1.05463234, -0.60442397,\n",
              "        -0.86633198, -0.75416354, -0.64407754, -0.19499925, -1.1458526 ,\n",
              "        -1.80462664, -0.49997744, -3.21416053, -1.39145728, -0.06773702,\n",
              "        -0.94547225, -2.07507398, -0.18010722, -2.75248043, -1.91111806,\n",
              "        -0.43077524, -0.89707905, -1.31197492, -0.83321689, -1.21130237,\n",
              "        -1.23767051, -1.63459173, -0.64122156, -0.92411201, -0.91823243,\n",
              "        -2.11103979, -5.61714233, -0.85272492, -1.53430722, -0.69183717,\n",
              "        -1.33751603, -1.73356129, -4.2620802 , -0.83251173, -2.91773012,\n",
              "        -1.9432106 , -2.10982636, -0.18290332, -2.24729132,  0.59021196,\n",
              "         0.03505348, -1.34848582, -0.74122239, -1.12471948, -0.57318616,\n",
              "        -6.29682354,  0.24293052, -1.44453682, -0.11542558, -0.8637685 ,\n",
              "        -0.29329617, -0.70280792, -0.34970066, -2.48016931, -2.17462247,\n",
              "        -1.35349111,  0.09433076,  0.15389554, -2.68234595, -1.3740099 ,\n",
              "        -1.26402994, -0.34574481,  0.20728221,  0.24550141, -0.22453265,\n",
              "        -4.14419246, -0.23845501, -4.16989606, -2.19638568, -0.47164179,\n",
              "        -2.55955539, -0.37523661, -1.08731358, -0.58141298, -0.57550525,\n",
              "         0.22060917,  0.1920135 , -1.32445402, -0.67180325, -0.29450299,\n",
              "        -0.73217205, -1.78831796, -1.48202702, -0.98732676, -2.02316004,\n",
              "        -4.08543169,  0.30668857, -0.3323267 , -1.82749489, -0.84694388,\n",
              "        -1.42908209, -0.56546985, -0.45534279,  0.24904439, -2.88303267,\n",
              "        -3.32090235, -3.43482897, -2.50473851, -2.50594136, -1.9726552 ,\n",
              "        -1.53586384, -1.2161013 , -1.28860026, -1.24265311,  0.1299287 ,\n",
              "        -1.29482527, -1.2203078 ,  0.47145207, -3.8814936 , -0.48836576,\n",
              "        -1.06844175, -2.31567544, -1.91577102, -0.37201212, -0.58906703,\n",
              "        -0.81310892, -0.19088861, -1.13829677, -0.43150511, -0.16486984,\n",
              "        -0.45980792, -4.36687027, -0.97313851, -1.3005781 , -4.7734693 ,\n",
              "        -0.88541754, -2.27751272, -5.39088147, -2.20041165, -0.84147454,\n",
              "        -1.36226001, -1.04927022, -4.43493322, -3.0574774 , -0.8732558 ,\n",
              "        -4.33156291, -0.94620855, -2.22240597, -1.41368067, -1.93335691,\n",
              "        -0.92890585, -0.63776348, -0.28468266,  0.69277632, -0.46922852,\n",
              "        -6.80736377, -0.11522421, -0.29793323, -0.53913744, -0.79296224,\n",
              "        -2.07385794, -0.77707181, -0.69636411, -0.38982393, -0.6423481 ,\n",
              "        -0.49830185, -1.65845656,  0.02299718, -0.60226458, -1.70284109,\n",
              "        -0.11905281,  1.01877476,  0.6742279 ,  0.17756364,  0.50103826,\n",
              "        -1.58310541, -2.61697285, -1.96839159, -1.19400752, -6.19258999])}"
            ]
          },
          "metadata": {},
          "execution_count": 41
        }
      ]
    },
    {
      "cell_type": "markdown",
      "source": [
        "# IMITATION LEARNING from the new expert\n",
        "\n",
        "TODO: implement an imitation learning of your choice for the same agent and environment. You can implement yourself the algorithm or use stable_baselines library. Using the new demonstration dataset, report the performance of your agent. Compare this performance to the performance of the new expert."
      ],
      "metadata": {
        "id": "sZR_FXswCvpk"
      }
    },
    {
      "cell_type": "code",
      "source": [
        "#TODO: implement an imitation learning of your choice for the same agent and environment. \n",
        "#TODO: Using the new demonstration dataset, report the performance of your agent."
      ],
      "metadata": {
        "id": "pnRgKq8CDbBl"
      },
      "execution_count": null,
      "outputs": []
    },
    {
      "cell_type": "code",
      "source": [
        "from stable_baselines import PPO2\n",
        "from stable_baselines.gail import ExpertDataset\n",
        "# Using only one expert trajectory\n",
        "# you can specify `traj_limitation=-1` for using the whole dataset\n",
        "dataset = ExpertDataset(expert_path='dummy_expert_HumanoidBullet.npz',\n",
        "                        traj_limitation=1, batch_size=128)\n",
        "\n",
        "\n",
        "bc_trainer = bc.BC(ospace, aspace, expert_data=dataset)\n",
        "# bc_trainer.policy.pretrain(dataset, n_epochs=1000)\n"
      ],
      "metadata": {
        "colab": {
          "base_uri": "https://localhost:8080/"
        },
        "id": "ohMIUdnsirWq",
        "outputId": "2354310a-3f3d-4c9c-f563-af14d5e2e0cc"
      },
      "execution_count": 50,
      "outputs": [
        {
          "output_type": "stream",
          "name": "stdout",
          "text": [
            "actions (200, 17)\n",
            "obs (200, 44)\n",
            "rewards (200,)\n",
            "episode_returns (10,)\n",
            "episode_starts (200,)\n",
            "Total trajectories: 1\n",
            "Total transitions: 36\n",
            "Average returns: -26.525424786633664\n",
            "Std for returns: 4.6765448745029\n"
          ]
        }
      ]
    },
    {
      "cell_type": "code",
      "source": [
        "# env.reset()\n",
        "# reward_before_training, _ = evaluate_policy(bc_trainer.policy, env, 10)\n",
        "# print(f\"Reward training with new dataset: {reward_before_training}\")\n",
        "\n",
        "\n",
        "env = gym.make(\"HumanoidBulletEnv-v0\")\n",
        "obs = env.reset()\n",
        "reward_sum = 0.0\n",
        "for i in range(num_episodes):\n",
        "    #TODO: write the code to test the behaviour of the output policy on the environment for num_episodes\n",
        "    action, _ = bc_trainer.policy.predict(obs)\n",
        "    obs, reward, done, _ = env.step(action)\n",
        "    reward_sum += reward\n",
        "    env.render()\n",
        "    if done:\n",
        "      print(reward_sum)\n",
        "      reward_sum = 0.0\n",
        "      obs = env.reset()\n",
        "\n",
        "    rAll = reward_sum\n",
        "    rew_list.append(rAll)\n",
        "  \n",
        "env.close()\n",
        "\n",
        "#check the learning process by plotting  the reward per episode \n",
        "plt.plot(rew_list)\n",
        "print(\"mean reward \",np.mean(rew_list))"
      ],
      "metadata": {
        "colab": {
          "base_uri": "https://localhost:8080/",
          "height": 283
        },
        "id": "aHTrfuNpUvdv",
        "outputId": "ee1e8ce1-7a30-428d-b065-ed08f9f32deb"
      },
      "execution_count": 59,
      "outputs": [
        {
          "output_type": "stream",
          "name": "stdout",
          "text": [
            "mean reward  -4.810785480993995\n"
          ]
        },
        {
          "output_type": "display_data",
          "data": {
            "text/plain": [
              "<Figure size 432x288 with 1 Axes>"
            ],
            "image/png": "[encoded data removed]"
          },
          "metadata": {
            "needs_background": "light"
          }
        }
      ]
    }
  ]
}